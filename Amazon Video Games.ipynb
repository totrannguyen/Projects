{
 "cells": [
  {
   "cell_type": "markdown",
   "metadata": {},
   "source": [
    "# Project : Amazon Video Games"
   ]
  },
  {
   "cell_type": "markdown",
   "metadata": {},
   "source": [
    "A recommendation system is an algorithm that predicts a user's preferences or ratings for an item based on their past behavior, interactions, or the behavior of similar users.\n",
    "\n",
    "In this project, we will use the **reviews_Video_Games_5.json.gz** dataset, which contains video game reviews from Amazon. Specifically, we will focus on the \"reviewerID\", \"asin\" (ProductID), and \"overall\" (user ratings for each product) attributes in the dataset. The goal is to build a model that can predict the \"overall\" ratings for products that a user has not yet interacted with. This approach aims to provide personalized product recommendations, thereby enhancing user engagement and satisfaction.\n",
    "\n",
    "Source : https://cseweb.ucsd.edu/%7Ejmcauley/datasets/amazon/links.html"
   ]
  },
  {
   "cell_type": "code",
   "execution_count": 1,
   "metadata": {},
   "outputs": [
    {
     "data": {
      "text/html": [
       "\n",
       "        <div>\n",
       "            <p><b>SparkContext</b></p>\n",
       "\n",
       "            <p><a href=\"http://ToTran:4040\">Spark UI</a></p>\n",
       "\n",
       "            <dl>\n",
       "              <dt>Version</dt>\n",
       "                <dd><code>v3.5.1</code></dd>\n",
       "              <dt>Master</dt>\n",
       "                <dd><code>local</code></dd>\n",
       "              <dt>AppName</dt>\n",
       "                <dd><code>New Spark Context</code></dd>\n",
       "            </dl>\n",
       "        </div>\n",
       "        "
      ],
      "text/plain": [
       "<SparkContext master=local appName=New Spark Context>"
      ]
     },
     "execution_count": 1,
     "metadata": {},
     "output_type": "execute_result"
    }
   ],
   "source": [
    "import findspark\n",
    "findspark.init()\n",
    "from pyspark import SparkContext\n",
    "SparkContext.setSystemProperty('spark.hadoop.dfs.client.use.datanode.hostname', 'true')\n",
    "sc=SparkContext(master='local', appName='New Spark Context')\n",
    "sc"
   ]
  },
  {
   "cell_type": "code",
   "execution_count": 2,
   "metadata": {},
   "outputs": [
    {
     "data": {
      "text/html": [
       "\n",
       "            <div>\n",
       "                <p><b>SparkSession - in-memory</b></p>\n",
       "                \n",
       "        <div>\n",
       "            <p><b>SparkContext</b></p>\n",
       "\n",
       "            <p><a href=\"http://ToTran:4040\">Spark UI</a></p>\n",
       "\n",
       "            <dl>\n",
       "              <dt>Version</dt>\n",
       "                <dd><code>v3.5.1</code></dd>\n",
       "              <dt>Master</dt>\n",
       "                <dd><code>local</code></dd>\n",
       "              <dt>AppName</dt>\n",
       "                <dd><code>New Spark Context</code></dd>\n",
       "            </dl>\n",
       "        </div>\n",
       "        \n",
       "            </div>\n",
       "        "
      ],
      "text/plain": [
       "<pyspark.sql.session.SparkSession at 0x27c1460f400>"
      ]
     },
     "execution_count": 2,
     "metadata": {},
     "output_type": "execute_result"
    }
   ],
   "source": [
    "from pyspark.sql import SparkSession\n",
    "spark=SparkSession(sc)\n",
    "spark"
   ]
  },
  {
   "cell_type": "code",
   "execution_count": 3,
   "metadata": {},
   "outputs": [],
   "source": [
    "from pyspark.ml.evaluation import RegressionEvaluator\n",
    "from pyspark.ml.recommendation import ALS\n",
    "from pyspark.sql.functions import *\n",
    "from pyspark.sql.types import *\n",
    "from pyspark.ml.feature import StringIndexer"
   ]
  },
  {
   "cell_type": "code",
   "execution_count": null,
   "metadata": {},
   "outputs": [
    {
     "name": "stdout",
     "output_type": "stream",
     "text": [
      "+----------+-------+-------+--------------------+-----------+--------------+--------------------+--------------------+--------------+\n",
      "|      asin|helpful|overall|          reviewText| reviewTime|    reviewerID|        reviewerName|             summary|unixReviewTime|\n",
      "+----------+-------+-------+--------------------+-----------+--------------+--------------------+--------------------+--------------+\n",
      "|0700099867|[8, 12]|    1.0|Installing the ga...| 07 9, 2012|A2HD75EMZR8QLN|                 123|Pay to unlock con...|    1341792000|\n",
      "|0700099867| [0, 0]|    4.0|If you like rally...|06 30, 2013|A3UR8NLLY1ZHCX|Alejandro Henao \"...|     Good rally game|    1372550400|\n",
      "|0700099867| [0, 0]|    1.0|1st shipment rece...|06 28, 2014|A1INA0F5CWW3J4|Amazon Shopper \"M...|           Wrong key|    1403913600|\n",
      "+----------+-------+-------+--------------------+-----------+--------------+--------------------+--------------------+--------------+\n",
      "only showing top 3 rows\n",
      "\n"
     ]
    }
   ],
   "source": [
    "data=spark.read.json(\"D:/DS/Video_Games_5.json\")\n",
    "data.show(3)"
   ]
  },
  {
   "cell_type": "code",
   "execution_count": 5,
   "metadata": {},
   "outputs": [
    {
     "name": "stdout",
     "output_type": "stream",
     "text": [
      "+----------+-------+--------------+\n",
      "|      asin|overall|    reviewerID|\n",
      "+----------+-------+--------------+\n",
      "|0700099867|    1.0|A2HD75EMZR8QLN|\n",
      "|0700099867|    4.0|A3UR8NLLY1ZHCX|\n",
      "|0700099867|    1.0|A1INA0F5CWW3J4|\n",
      "|0700099867|    3.0|A1DLMTOTHQ4AST|\n",
      "|0700099867|    4.0|A361M14PU2GUEG|\n",
      "+----------+-------+--------------+\n",
      "only showing top 5 rows\n",
      "\n"
     ]
    }
   ],
   "source": [
    "data_sub = data.select(['asin', 'overall', 'reviewerID'])\n",
    "data_sub.show(5)"
   ]
  },
  {
   "cell_type": "code",
   "execution_count": 6,
   "metadata": {},
   "outputs": [
    {
     "data": {
      "text/plain": [
       "231780"
      ]
     },
     "execution_count": 6,
     "metadata": {},
     "output_type": "execute_result"
    }
   ],
   "source": [
    "data_sub.count()"
   ]
  },
  {
   "cell_type": "code",
   "execution_count": 7,
   "metadata": {},
   "outputs": [
    {
     "name": "stdout",
     "output_type": "stream",
     "text": [
      "root\n",
      " |-- asin: string (nullable = true)\n",
      " |-- overall: double (nullable = true)\n",
      " |-- reviewerID: string (nullable = true)\n",
      "\n"
     ]
    }
   ],
   "source": [
    "data_sub.printSchema()"
   ]
  },
  {
   "cell_type": "code",
   "execution_count": 8,
   "metadata": {},
   "outputs": [],
   "source": [
    "data_sub = data_sub.withColumn(\"overall\", data_sub[\"overall\"].cast(DoubleType()))"
   ]
  },
  {
   "cell_type": "code",
   "execution_count": 9,
   "metadata": {},
   "outputs": [
    {
     "data": {
      "text/html": [
       "<div>\n",
       "<style scoped>\n",
       "    .dataframe tbody tr th:only-of-type {\n",
       "        vertical-align: middle;\n",
       "    }\n",
       "\n",
       "    .dataframe tbody tr th {\n",
       "        vertical-align: top;\n",
       "    }\n",
       "\n",
       "    .dataframe thead th {\n",
       "        text-align: right;\n",
       "    }\n",
       "</style>\n",
       "<table border=\"1\" class=\"dataframe\">\n",
       "  <thead>\n",
       "    <tr style=\"text-align: right;\">\n",
       "      <th></th>\n",
       "      <th>0</th>\n",
       "    </tr>\n",
       "  </thead>\n",
       "  <tbody>\n",
       "    <tr>\n",
       "      <th>asin</th>\n",
       "      <td>0</td>\n",
       "    </tr>\n",
       "    <tr>\n",
       "      <th>overall</th>\n",
       "      <td>0</td>\n",
       "    </tr>\n",
       "    <tr>\n",
       "      <th>reviewerID</th>\n",
       "      <td>0</td>\n",
       "    </tr>\n",
       "  </tbody>\n",
       "</table>\n",
       "</div>"
      ],
      "text/plain": [
       "            0\n",
       "asin        0\n",
       "overall     0\n",
       "reviewerID  0"
      ]
     },
     "execution_count": 9,
     "metadata": {},
     "output_type": "execute_result"
    }
   ],
   "source": [
    "data_sub.select([count(when(isnull(c), c)).alias(c) for c in data_sub.columns]).toPandas().T"
   ]
  },
  {
   "cell_type": "code",
   "execution_count": 10,
   "metadata": {},
   "outputs": [
    {
     "data": {
      "text/html": [
       "<div>\n",
       "<style scoped>\n",
       "    .dataframe tbody tr th:only-of-type {\n",
       "        vertical-align: middle;\n",
       "    }\n",
       "\n",
       "    .dataframe tbody tr th {\n",
       "        vertical-align: top;\n",
       "    }\n",
       "\n",
       "    .dataframe thead th {\n",
       "        text-align: right;\n",
       "    }\n",
       "</style>\n",
       "<table border=\"1\" class=\"dataframe\">\n",
       "  <thead>\n",
       "    <tr style=\"text-align: right;\">\n",
       "      <th></th>\n",
       "      <th>0</th>\n",
       "    </tr>\n",
       "  </thead>\n",
       "  <tbody>\n",
       "    <tr>\n",
       "      <th>asin</th>\n",
       "      <td>0</td>\n",
       "    </tr>\n",
       "    <tr>\n",
       "      <th>overall</th>\n",
       "      <td>0</td>\n",
       "    </tr>\n",
       "    <tr>\n",
       "      <th>reviewerID</th>\n",
       "      <td>0</td>\n",
       "    </tr>\n",
       "  </tbody>\n",
       "</table>\n",
       "</div>"
      ],
      "text/plain": [
       "            0\n",
       "asin        0\n",
       "overall     0\n",
       "reviewerID  0"
      ]
     },
     "execution_count": 10,
     "metadata": {},
     "output_type": "execute_result"
    }
   ],
   "source": [
    "data_sub.select([count(when(isnan(c), c)).alias(c) for c in data_sub.columns]).toPandas().T"
   ]
  },
  {
   "cell_type": "code",
   "execution_count": 11,
   "metadata": {},
   "outputs": [
    {
     "data": {
      "text/plain": [
       "(24303, 10672, 231780)"
      ]
     },
     "execution_count": 11,
     "metadata": {},
     "output_type": "execute_result"
    }
   ],
   "source": [
    "users = data_sub.select(\"reviewerID\").distinct().count()\n",
    "products = data_sub.select(\"asin\").distinct().count()\n",
    "numerator = data_sub.count()\n",
    "users, products, numerator"
   ]
  },
  {
   "cell_type": "code",
   "execution_count": 12,
   "metadata": {},
   "outputs": [
    {
     "name": "stdout",
     "output_type": "stream",
     "text": [
      "Sparsity:  0.9991063442479476\n"
     ]
    }
   ],
   "source": [
    "# Sparsity\n",
    "sparsity = 1 - (numerator / (users * products))\n",
    "print (\"Sparsity: \", sparsity)"
   ]
  },
  {
   "cell_type": "code",
   "execution_count": 13,
   "metadata": {},
   "outputs": [
    {
     "name": "stdout",
     "output_type": "stream",
     "text": [
      "+----------+-------+--------------+--------+--------------+\n",
      "|      asin|overall|    reviewerID|asin_idx|reviewerID_idx|\n",
      "+----------+-------+--------------+--------+--------------+\n",
      "|0700099867|    1.0|A2HD75EMZR8QLN|  2269.0|       14157.0|\n",
      "|0700099867|    4.0|A3UR8NLLY1ZHCX|  2269.0|       22489.0|\n",
      "|0700099867|    1.0|A1INA0F5CWW3J4|  2269.0|        7934.0|\n",
      "|0700099867|    3.0|A1DLMTOTHQ4AST|  2269.0|        7852.0|\n",
      "|0700099867|    4.0|A361M14PU2GUEG|  2269.0|         847.0|\n",
      "+----------+-------+--------------+--------+--------------+\n",
      "only showing top 5 rows\n",
      "\n"
     ]
    }
   ],
   "source": [
    "data_indexed=StringIndexer(inputCol='asin', outputCol='asin_idx').fit(data_sub).transform(data_sub)\n",
    "data_indexed=StringIndexer(inputCol='reviewerID', outputCol='reviewerID_idx').fit(data_indexed).transform(data_indexed)\n",
    "data_indexed.show(5)"
   ]
  },
  {
   "cell_type": "code",
   "execution_count": 14,
   "metadata": {},
   "outputs": [
    {
     "data": {
      "text/html": [
       "<div>\n",
       "<style scoped>\n",
       "    .dataframe tbody tr th:only-of-type {\n",
       "        vertical-align: middle;\n",
       "    }\n",
       "\n",
       "    .dataframe tbody tr th {\n",
       "        vertical-align: top;\n",
       "    }\n",
       "\n",
       "    .dataframe thead th {\n",
       "        text-align: right;\n",
       "    }\n",
       "</style>\n",
       "<table border=\"1\" class=\"dataframe\">\n",
       "  <thead>\n",
       "    <tr style=\"text-align: right;\">\n",
       "      <th></th>\n",
       "      <th>0</th>\n",
       "    </tr>\n",
       "  </thead>\n",
       "  <tbody>\n",
       "    <tr>\n",
       "      <th>asin</th>\n",
       "      <td>0</td>\n",
       "    </tr>\n",
       "    <tr>\n",
       "      <th>overall</th>\n",
       "      <td>0</td>\n",
       "    </tr>\n",
       "    <tr>\n",
       "      <th>reviewerID</th>\n",
       "      <td>0</td>\n",
       "    </tr>\n",
       "  </tbody>\n",
       "</table>\n",
       "</div>"
      ],
      "text/plain": [
       "            0\n",
       "asin        0\n",
       "overall     0\n",
       "reviewerID  0"
      ]
     },
     "execution_count": 14,
     "metadata": {},
     "output_type": "execute_result"
    }
   ],
   "source": [
    "data_indexed.select([count(when(isnull(c), c)).alias(c) for c in data_sub.columns]).toPandas().T"
   ]
  },
  {
   "cell_type": "code",
   "execution_count": 15,
   "metadata": {},
   "outputs": [],
   "source": [
    "train, test = data_indexed.randomSplit([0.8, 0.2])"
   ]
  },
  {
   "cell_type": "code",
   "execution_count": 24,
   "metadata": {},
   "outputs": [],
   "source": [
    "als = ALS(maxIter=10,\n",
    "          regParam=0.1,\n",
    "          rank = 15,\n",
    "          userCol=\"reviewerID_idx\",\n",
    "          itemCol=\"asin_idx\",\n",
    "          ratingCol=\"overall\",\n",
    "          coldStartStrategy=\"drop\",\n",
    "          nonnegative=True)\n",
    "model = als.fit(train)"
   ]
  },
  {
   "cell_type": "code",
   "execution_count": 25,
   "metadata": {},
   "outputs": [
    {
     "name": "stdout",
     "output_type": "stream",
     "text": [
      "+----------+-------+--------------+--------+--------------+----------+\n",
      "|      asin|overall|    reviewerID|asin_idx|reviewerID_idx|prediction|\n",
      "+----------+-------+--------------+--------+--------------+----------+\n",
      "|B00000DMAR|    5.0|A1QHGON6QDTX2K|  1621.0|       13285.0|  4.061522|\n",
      "|B00000F1GM|    5.0|A2AV2TR28DGSGC|   290.0|        1645.0| 4.3437734|\n",
      "|B00000K514|    4.0|A12WZTC4YJ8ZEC|  7388.0|         496.0|  4.405699|\n",
      "|B00001LAE2|    4.0|A2NJO6YE954DBH|  2757.0|       20135.0|  3.443389|\n",
      "|B00002SUOV|    5.0|A3PI78LW7ENR1C|   410.0|       15619.0| 3.8626418|\n",
      "+----------+-------+--------------+--------+--------------+----------+\n",
      "only showing top 5 rows\n",
      "\n"
     ]
    }
   ],
   "source": [
    "predictions=model.transform(test)\n",
    "predictions.show(5)"
   ]
  },
  {
   "cell_type": "code",
   "execution_count": 27,
   "metadata": {},
   "outputs": [
    {
     "data": {
      "text/plain": [
       "1.2240971307543231"
      ]
     },
     "execution_count": 27,
     "metadata": {},
     "output_type": "execute_result"
    }
   ],
   "source": [
    "evaluator=RegressionEvaluator(metricName='rmse', labelCol='overall', predictionCol='prediction')\n",
    "rmse=evaluator.evaluate(predictions)\n",
    "rmse"
   ]
  },
  {
   "cell_type": "markdown",
   "metadata": {},
   "source": [
    "TUNNING PARAMETER"
   ]
  },
  {
   "cell_type": "code",
   "execution_count": 18,
   "metadata": {},
   "outputs": [
    {
     "name": "stdout",
     "output_type": "stream",
     "text": [
      "With regParam = 0.01 , rank = 10 : RSME = 1.620807270931743\n",
      "With regParam = 0.01 , rank = 20 : RSME = 1.451252249996847\n",
      "With regParam = 0.01 , rank = 30 : RSME = 1.388174280364535\n",
      "With regParam = 0.01 , rank = 40 : RSME = 1.3722240661477678\n",
      "With regParam = 0.1 , rank = 10 : RSME = 1.2549736164974294\n",
      "With regParam = 0.1 , rank = 20 : RSME = 1.2184306907403926\n",
      "With regParam = 0.1 , rank = 30 : RSME = 1.2104780686409016\n",
      "With regParam = 0.1 , rank = 40 : RSME = 1.197064953244429\n",
      "With regParam = 1 , rank = 10 : RSME = 1.4554353103825102\n",
      "With regParam = 1 , rank = 20 : RSME = 1.4554411754813787\n",
      "With regParam = 1 , rank = 30 : RSME = 1.4554599350746218\n",
      "With regParam = 1 , rank = 40 : RSME = 1.4554582428447769\n"
     ]
    }
   ],
   "source": [
    "for regParam in [0.01, 0.1, 1]:\n",
    "    for rank in [10, 20, 30, 40]:\n",
    "        als = ALS(maxIter=10,\n",
    "          regParam=regParam,\n",
    "          rank = rank,\n",
    "          userCol=\"reviewerID_idx\",\n",
    "          itemCol=\"asin_idx\",\n",
    "          ratingCol=\"overall\",\n",
    "          coldStartStrategy=\"drop\",\n",
    "          nonnegative=True)\n",
    "        \n",
    "        model = als.fit(train)\n",
    "\n",
    "        predictions=model.transform(test)\n",
    "\n",
    "        evaluator=RegressionEvaluator(metricName='rmse', labelCol='overall', predictionCol='prediction')\n",
    "        rmse=evaluator.evaluate(predictions)\n",
    "        print('With regParam =', regParam, ', rank =', rank, ': RSME =', rmse)"
   ]
  },
  {
   "cell_type": "code",
   "execution_count": 22,
   "metadata": {},
   "outputs": [
    {
     "name": "stdout",
     "output_type": "stream",
     "text": [
      "With maxIter = 15 , regParam = 0.1 , rank = 20 : RSME = 1.2184306907403926\n",
      "With maxIter = 15 , regParam = 0.1 , rank = 25 : RSME = 1.2119784954942823\n",
      "With maxIter = 15 , regParam = 0.1 , rank = 30 : RSME = 1.2104780686409016\n",
      "With maxIter = 15 , regParam = 0.1 , rank = 35 : RSME = 1.2021304854366643\n",
      "With maxIter = 15 , regParam = 1 , rank = 20 : RSME = 1.4554411754813787\n",
      "With maxIter = 15 , regParam = 1 , rank = 25 : RSME = 1.4554524621523863\n",
      "With maxIter = 15 , regParam = 1 , rank = 30 : RSME = 1.4554599350746218\n",
      "With maxIter = 15 , regParam = 1 , rank = 35 : RSME = 1.4554455312881636\n",
      "With maxIter = 20 , regParam = 0.1 , rank = 20 : RSME = 1.2184306907403926\n",
      "With maxIter = 20 , regParam = 0.1 , rank = 25 : RSME = 1.2119784954942823\n",
      "With maxIter = 20 , regParam = 0.1 , rank = 30 : RSME = 1.2104780686409016\n",
      "With maxIter = 20 , regParam = 0.1 , rank = 35 : RSME = 1.2021304854366643\n",
      "With maxIter = 20 , regParam = 1 , rank = 20 : RSME = 1.4554411754813787\n",
      "With maxIter = 20 , regParam = 1 , rank = 25 : RSME = 1.4554524621523863\n",
      "With maxIter = 20 , regParam = 1 , rank = 30 : RSME = 1.4554599350746218\n",
      "With maxIter = 20 , regParam = 1 , rank = 35 : RSME = 1.4554455312881636\n"
     ]
    }
   ],
   "source": [
    "for maxIter in [15, 20]:\n",
    "  for regParam in [0.1, 1]:\n",
    "     for rank in [20, 25, 30, 35]:\n",
    "          als = ALS(maxIter=10,\n",
    "            regParam=regParam,\n",
    "            rank = rank,\n",
    "            userCol=\"reviewerID_idx\",\n",
    "            itemCol=\"asin_idx\",\n",
    "            ratingCol=\"overall\",\n",
    "            coldStartStrategy=\"drop\",\n",
    "            nonnegative=True)\n",
    "        \n",
    "          model = als.fit(train)\n",
    "\n",
    "          predictions=model.transform(test)\n",
    "\n",
    "          evaluator=RegressionEvaluator(metricName='rmse', labelCol='overall', predictionCol='prediction')\n",
    "          rmse=evaluator.evaluate(predictions)\n",
    "          print('With maxIter =', maxIter, ', regParam =', regParam, ', rank =', rank, ': RSME =', rmse)"
   ]
  },
  {
   "cell_type": "code",
   "execution_count": 18,
   "metadata": {},
   "outputs": [
    {
     "data": {
      "text/plain": [
       "1.1769099417376128"
      ]
     },
     "execution_count": 18,
     "metadata": {},
     "output_type": "execute_result"
    }
   ],
   "source": [
    "als = ALS(maxIter=20,\n",
    "          regParam=0.3,\n",
    "          rank = 35,\n",
    "          userCol=\"reviewerID_idx\",\n",
    "          itemCol=\"asin_idx\",\n",
    "          ratingCol=\"overall\",\n",
    "          coldStartStrategy=\"drop\",\n",
    "          nonnegative=True)\n",
    "model = als.fit(train)\n",
    "\n",
    "predictions=model.transform(test)\n",
    "\n",
    "evaluator=RegressionEvaluator(metricName='rmse', labelCol='overall', predictionCol='prediction')\n",
    "rmse=evaluator.evaluate(predictions)\n",
    "rmse"
   ]
  },
  {
   "cell_type": "markdown",
   "metadata": {},
   "source": [
    "Choose the model with maxIter=20, regParam=0.3, and rank=35, as it yields the lowest RMS"
   ]
  },
  {
   "cell_type": "code",
   "execution_count": null,
   "metadata": {},
   "outputs": [],
   "source": [
    "model.save(\"Saved_Model/Recommendation_Model\")"
   ]
  },
  {
   "cell_type": "code",
   "execution_count": 19,
   "metadata": {},
   "outputs": [],
   "source": [
    "user_recs = model.recommendForAllUsers(10)"
   ]
  },
  {
   "cell_type": "code",
   "execution_count": 21,
   "metadata": {},
   "outputs": [
    {
     "name": "stdout",
     "output_type": "stream",
     "text": [
      "+--------------+-----------------------------------------------------------------------------------------------------------------------------------------------------------------------------------------------+\n",
      "|reviewerID_idx|recommendations                                                                                                                                                                                |\n",
      "+--------------+-----------------------------------------------------------------------------------------------------------------------------------------------------------------------------------------------+\n",
      "|0             |[{5567, 5.170495}, {10395, 5.1384835}, {9536, 5.111155}, {10074, 5.0490193}, {5439, 5.0289917}, {8237, 5.0169296}, {9330, 5.0027604}, {6190, 4.979928}, {8750, 4.975552}, {4476, 4.967814}]    |\n",
      "|1             |[{5567, 4.671962}, {9536, 4.6549263}, {10395, 4.6226745}, {8237, 4.5801897}, {10074, 4.5777617}, {8750, 4.5658355}, {4629, 4.5330887}, {4476, 4.531039}, {5439, 4.5279803}, {3531, 4.4824862}] |\n",
      "|2             |[{5567, 4.5068398}, {5439, 4.4310474}, {10395, 4.413888}, {9536, 4.3991823}, {8237, 4.3932667}, {10074, 4.388088}, {8750, 4.3395467}, {4629, 4.33655}, {10268, 4.3248887}, {4476, 4.3015776}]  |\n",
      "|3             |[{10395, 4.4578447}, {5567, 4.406974}, {8237, 4.3848734}, {9536, 4.3538136}, {8750, 4.306435}, {8832, 4.2914534}, {10074, 4.2844834}, {8685, 4.2781096}, {4629, 4.2652974}, {10268, 4.2547846}]|\n",
      "|4             |[{5567, 4.889433}, {10395, 4.8685503}, {9536, 4.8345623}, {8237, 4.8050737}, {8750, 4.7599444}, {5439, 4.7579684}, {4629, 4.7240977}, {10074, 4.712037}, {10268, 4.7102294}, {3531, 4.6900334}]|\n",
      "|5             |[{10395, 5.3808403}, {5567, 5.375826}, {9536, 5.2830753}, {8237, 5.2545743}, {8750, 5.229164}, {5439, 5.2145004}, {10074, 5.2064466}, {9330, 5.196135}, {8832, 5.179844}, {4629, 5.1704054}]   |\n",
      "|6             |[{5567, 5.184488}, {9536, 5.1513467}, {10395, 5.1331973}, {5439, 5.124679}, {8237, 5.1194453}, {4629, 5.0782294}, {10074, 5.0746193}, {8750, 5.0710907}, {6987, 5.0124745}, {10268, 4.9839025}]|\n",
      "|7             |[{7918, 4.4691725}, {8803, 4.4572988}, {8578, 4.4116535}, {7574, 4.4090557}, {7600, 4.360425}, {4584, 4.3312416}, {3926, 4.3089266}, {5807, 4.3076415}, {7101, 4.299587}, {6347, 4.2898307}]   |\n",
      "|8             |[{5567, 5.02801}, {10395, 5.025039}, {9536, 4.9933233}, {8237, 4.947788}, {8750, 4.899927}, {5439, 4.8990645}, {10074, 4.8756647}, {4629, 4.873579}, {8685, 4.83212}, {10268, 4.8257375}]      |\n",
      "|9             |[{8272, 4.114388}, {7441, 4.0916314}, {5591, 4.083257}, {8560, 4.0727057}, {9536, 4.067083}, {8750, 4.0346527}, {2494, 3.9780054}, {4772, 3.9729273}, {10074, 3.972028}, {2916, 3.9667258}]    |\n",
      "+--------------+-----------------------------------------------------------------------------------------------------------------------------------------------------------------------------------------------+\n",
      "only showing top 10 rows\n",
      "\n"
     ]
    }
   ],
   "source": [
    "user_recs.show(10, False)"
   ]
  },
  {
   "cell_type": "code",
   "execution_count": 23,
   "metadata": {},
   "outputs": [
    {
     "name": "stdout",
     "output_type": "stream",
     "text": [
      "Row(reviewerID_idx=0, recommendations=[Row(asin_idx=5567, rating=5.17049503326416), Row(asin_idx=10395, rating=5.13848352432251), Row(asin_idx=9536, rating=5.111155033111572), Row(asin_idx=10074, rating=5.0490193367004395), Row(asin_idx=5439, rating=5.02899169921875), Row(asin_idx=8237, rating=5.016929626464844), Row(asin_idx=9330, rating=5.002760410308838), Row(asin_idx=6190, rating=4.979928016662598), Row(asin_idx=8750, rating=4.975552082061768), Row(asin_idx=4476, rating=4.967813968658447)])\n",
      "Row(reviewerID_idx=1, recommendations=[Row(asin_idx=5567, rating=4.671961784362793), Row(asin_idx=9536, rating=4.654926300048828), Row(asin_idx=10395, rating=4.622674465179443), Row(asin_idx=8237, rating=4.5801897048950195), Row(asin_idx=10074, rating=4.577761650085449), Row(asin_idx=8750, rating=4.565835475921631), Row(asin_idx=4629, rating=4.533088684082031), Row(asin_idx=4476, rating=4.531039237976074), Row(asin_idx=5439, rating=4.527980327606201), Row(asin_idx=3531, rating=4.482486248016357)])\n",
      "Row(reviewerID_idx=2, recommendations=[Row(asin_idx=5567, rating=4.506839752197266), Row(asin_idx=5439, rating=4.431047439575195), Row(asin_idx=10395, rating=4.413887977600098), Row(asin_idx=9536, rating=4.399182319641113), Row(asin_idx=8237, rating=4.393266677856445), Row(asin_idx=10074, rating=4.388088226318359), Row(asin_idx=8750, rating=4.3395466804504395), Row(asin_idx=4629, rating=4.336550235748291), Row(asin_idx=10268, rating=4.324888706207275), Row(asin_idx=4476, rating=4.301577568054199)])\n",
      "Row(reviewerID_idx=3, recommendations=[Row(asin_idx=10395, rating=4.4578447341918945), Row(asin_idx=5567, rating=4.406973838806152), Row(asin_idx=8237, rating=4.384873390197754), Row(asin_idx=9536, rating=4.353813648223877), Row(asin_idx=8750, rating=4.3064351081848145), Row(asin_idx=8832, rating=4.2914533615112305), Row(asin_idx=10074, rating=4.284483432769775), Row(asin_idx=8685, rating=4.278109550476074), Row(asin_idx=4629, rating=4.2652974128723145), Row(asin_idx=10268, rating=4.25478458404541)])\n",
      "Row(reviewerID_idx=4, recommendations=[Row(asin_idx=5567, rating=4.889432907104492), Row(asin_idx=10395, rating=4.8685503005981445), Row(asin_idx=9536, rating=4.834562301635742), Row(asin_idx=8237, rating=4.8050737380981445), Row(asin_idx=8750, rating=4.759944438934326), Row(asin_idx=5439, rating=4.757968425750732), Row(asin_idx=4629, rating=4.724097728729248), Row(asin_idx=10074, rating=4.712037086486816), Row(asin_idx=10268, rating=4.710229396820068), Row(asin_idx=3531, rating=4.690033435821533)])\n",
      "Row(reviewerID_idx=5, recommendations=[Row(asin_idx=10395, rating=5.380840301513672), Row(asin_idx=5567, rating=5.375825881958008), Row(asin_idx=9536, rating=5.283075332641602), Row(asin_idx=8237, rating=5.254574298858643), Row(asin_idx=8750, rating=5.229164123535156), Row(asin_idx=5439, rating=5.214500427246094), Row(asin_idx=10074, rating=5.206446647644043), Row(asin_idx=9330, rating=5.1961350440979), Row(asin_idx=8832, rating=5.179843902587891), Row(asin_idx=4629, rating=5.170405387878418)])\n",
      "Row(reviewerID_idx=6, recommendations=[Row(asin_idx=5567, rating=5.184487819671631), Row(asin_idx=9536, rating=5.151346683502197), Row(asin_idx=10395, rating=5.13319730758667), Row(asin_idx=5439, rating=5.124679088592529), Row(asin_idx=8237, rating=5.119445323944092), Row(asin_idx=4629, rating=5.0782294273376465), Row(asin_idx=10074, rating=5.074619293212891), Row(asin_idx=8750, rating=5.0710906982421875), Row(asin_idx=6987, rating=5.012474536895752), Row(asin_idx=10268, rating=4.983902454376221)])\n",
      "Row(reviewerID_idx=7, recommendations=[Row(asin_idx=7918, rating=4.469172477722168), Row(asin_idx=8803, rating=4.457298755645752), Row(asin_idx=8578, rating=4.411653518676758), Row(asin_idx=7574, rating=4.409055709838867), Row(asin_idx=7600, rating=4.360424995422363), Row(asin_idx=4584, rating=4.331241607666016), Row(asin_idx=3926, rating=4.308926582336426), Row(asin_idx=5807, rating=4.307641506195068), Row(asin_idx=7101, rating=4.299586772918701), Row(asin_idx=6347, rating=4.289830684661865)])\n",
      "Row(reviewerID_idx=8, recommendations=[Row(asin_idx=5567, rating=5.02800989151001), Row(asin_idx=10395, rating=5.025039196014404), Row(asin_idx=9536, rating=4.99332332611084), Row(asin_idx=8237, rating=4.947787761688232), Row(asin_idx=8750, rating=4.899927139282227), Row(asin_idx=5439, rating=4.899064540863037), Row(asin_idx=10074, rating=4.875664710998535), Row(asin_idx=4629, rating=4.873579025268555), Row(asin_idx=8685, rating=4.832119941711426), Row(asin_idx=10268, rating=4.825737476348877)])\n",
      "Row(reviewerID_idx=9, recommendations=[Row(asin_idx=8272, rating=4.1143879890441895), Row(asin_idx=7441, rating=4.0916314125061035), Row(asin_idx=5591, rating=4.08325719833374), Row(asin_idx=8560, rating=4.0727057456970215), Row(asin_idx=9536, rating=4.06708288192749), Row(asin_idx=8750, rating=4.0346527099609375), Row(asin_idx=2494, rating=3.9780054092407227), Row(asin_idx=4772, rating=3.9729273319244385), Row(asin_idx=10074, rating=3.9720280170440674), Row(asin_idx=2916, rating=3.9667258262634277)])\n"
     ]
    }
   ],
   "source": [
    "for user in user_recs.head(10):\n",
    "    print(user)"
   ]
  },
  {
   "cell_type": "code",
   "execution_count": 25,
   "metadata": {},
   "outputs": [
    {
     "name": "stdout",
     "output_type": "stream",
     "text": [
      "+--------------+--------------+\n",
      "|reviewerID_idx|    reviewerID|\n",
      "+--------------+--------------+\n",
      "|       20806.0|A2ZYJOZO6BPV6K|\n",
      "|         735.0|A3TQTYD0D6AUO3|\n",
      "|        2580.0|A2QVKLB1VT903K|\n",
      "|        9117.0|A3OMBKL5EOHA36|\n",
      "|        2945.0|A2NWQA506BES77|\n",
      "+--------------+--------------+\n",
      "only showing top 5 rows\n",
      "\n"
     ]
    }
   ],
   "source": [
    "df_reviewer_reviewer_id = data_indexed.select('reviewerID_idx', 'reviewerID').distinct()\n",
    "df_reviewer_reviewer_id.show(5)"
   ]
  },
  {
   "cell_type": "code",
   "execution_count": 26,
   "metadata": {},
   "outputs": [
    {
     "name": "stdout",
     "output_type": "stream",
     "text": [
      "+--------+----------+\n",
      "|asin_idx|      asin|\n",
      "+--------+----------+\n",
      "|   883.0|B000038IFX|\n",
      "|  2005.0|B00005Q8J1|\n",
      "|  4809.0|B00005YYFE|\n",
      "|  3085.0|B00006F2ZR|\n",
      "|  4821.0|B00007KUW5|\n",
      "+--------+----------+\n",
      "only showing top 5 rows\n",
      "\n"
     ]
    }
   ],
   "source": [
    "df_asin_asin_idx = data_indexed.select('asin_idx', 'asin').distinct()\n",
    "df_asin_asin_idx.show(5)"
   ]
  },
  {
   "cell_type": "code",
   "execution_count": 27,
   "metadata": {},
   "outputs": [
    {
     "name": "stdout",
     "output_type": "stream",
     "text": [
      "+--------------+-----------------------------------------------------------------------------------------------------------------------------------------------------------------------------------------------+--------------+\n",
      "|reviewerID_idx|recommendations                                                                                                                                                                                |reviewerID    |\n",
      "+--------------+-----------------------------------------------------------------------------------------------------------------------------------------------------------------------------------------------+--------------+\n",
      "|8             |[{5567, 5.02801}, {10395, 5.025039}, {9536, 4.9933233}, {8237, 4.947788}, {8750, 4.899927}, {5439, 4.8990645}, {10074, 4.8756647}, {4629, 4.873579}, {8685, 4.83212}, {10268, 4.8257375}]      |A1AISPOIIHTHXX|\n",
      "|0             |[{5567, 5.170495}, {10395, 5.1384835}, {9536, 5.111155}, {10074, 5.0490193}, {5439, 5.0289917}, {8237, 5.0169296}, {9330, 5.0027604}, {6190, 4.979928}, {8750, 4.975552}, {4476, 4.967814}]    |A3V6Z4RCDGRC44|\n",
      "|7             |[{7918, 4.4691725}, {8803, 4.4572988}, {8578, 4.4116535}, {7574, 4.4090557}, {7600, 4.360425}, {4584, 4.3312416}, {3926, 4.3089266}, {5807, 4.3076415}, {7101, 4.299587}, {6347, 4.2898307}]   |A20DZX38KRBIT8|\n",
      "|1             |[{5567, 4.671962}, {9536, 4.6549263}, {10395, 4.6226745}, {8237, 4.5801897}, {10074, 4.5777617}, {8750, 4.5658355}, {4629, 4.5330887}, {4476, 4.531039}, {5439, 4.5279803}, {3531, 4.4824862}] |AJKWF4W7QD4NS |\n",
      "|4             |[{5567, 4.889433}, {10395, 4.8685503}, {9536, 4.8345623}, {8237, 4.8050737}, {8750, 4.7599444}, {5439, 4.7579684}, {4629, 4.7240977}, {10074, 4.712037}, {10268, 4.7102294}, {3531, 4.6900334}]|A29BQ6B90Y1R5F|\n",
      "|3             |[{10395, 4.4578447}, {5567, 4.406974}, {8237, 4.3848734}, {9536, 4.3538136}, {8750, 4.306435}, {8832, 4.2914534}, {10074, 4.2844834}, {8685, 4.2781096}, {4629, 4.2652974}, {10268, 4.2547846}]|A2QHS1ZCIQOL7E|\n",
      "|2             |[{5567, 4.5068398}, {5439, 4.4310474}, {10395, 4.413888}, {9536, 4.3991823}, {8237, 4.3932667}, {10074, 4.388088}, {8750, 4.3395467}, {4629, 4.33655}, {10268, 4.3248887}, {4476, 4.3015776}]  |A3W4D8XOGLWUN5|\n",
      "|10            |[{10395, 5.3795714}, {5567, 5.310508}, {9536, 5.198277}, {8237, 5.192402}, {10074, 5.135906}, {9623, 5.130966}, {10268, 5.129561}, {9330, 5.1206365}, {4629, 5.113412}, {8750, 5.0810275}]     |A3GKMQFL05Z79K|\n",
      "|6             |[{5567, 5.184488}, {9536, 5.1513467}, {10395, 5.1331973}, {5439, 5.124679}, {8237, 5.1194453}, {4629, 5.0782294}, {10074, 5.0746193}, {8750, 5.0710907}, {6987, 5.0124745}, {10268, 4.9839025}]|A2TCG2HV1VJP6V|\n",
      "|5             |[{10395, 5.3808403}, {5567, 5.375826}, {9536, 5.2830753}, {8237, 5.2545743}, {8750, 5.229164}, {5439, 5.2145004}, {10074, 5.2064466}, {9330, 5.196135}, {8832, 5.179844}, {4629, 5.1704054}]   |AFV2584U13XP3 |\n",
      "+--------------+-----------------------------------------------------------------------------------------------------------------------------------------------------------------------------------------------+--------------+\n",
      "only showing top 10 rows\n",
      "\n"
     ]
    }
   ],
   "source": [
    "new_user_recs = user_recs.join(df_reviewer_reviewer_id, on=['reviewerID_idx'], how='left')\n",
    "new_user_recs.show(10, truncate=False)"
   ]
  },
  {
   "cell_type": "code",
   "execution_count": 29,
   "metadata": {},
   "outputs": [],
   "source": [
    "new_user_recs.write.parquet('Saved_Model/Question4/Video_Games_U.parquet', mode='overwrite')\n",
    "df_asin_asin_idx.write.parquet('Saved_Model/Question4/Video_Games_P.parquet', mode='overwrite')"
   ]
  },
  {
   "cell_type": "code",
   "execution_count": 31,
   "metadata": {},
   "outputs": [
    {
     "name": "stdout",
     "output_type": "stream",
     "text": [
      "{'reviewerID': 'A29KT7UP7DLM1J', 'recommendations': [(5567, 'B00002SVO9', 4.003811836242676), (9536, 'B00006IKBG', 3.9786391258239746), (5439, 'B004DGJP2G', 3.96638560295105), (7425, 'B000035XKX', 3.961329460144043), (1520, 'B000B6MLTG', 3.9610238075256348), (4629, 'B002LIT3F2', 3.9505438804626465), (3249, 'B00004WKHO', 3.93021559715271), (8237, 'B000035XGG', 3.9193837642669678), (10148, 'B0024FAXII', 3.8894078731536865), (6024, 'B0076RRYA4', 3.88702392578125)]}\n",
      "{'reviewerID': 'A1WGVOVABHFDF3', 'recommendations': [(10395, 'B004VF06AY', 5.153601169586182), (8832, 'B001E1BNZU', 5.059384346008301), (8685, 'B000LWRMHQ', 5.035480976104736), (5567, 'B00002SVO9', 5.029973983764648), (9536, 'B00006IKBG', 5.021553039550781), (8237, 'B000035XGG', 5.011380672454834), (8750, 'B000WPTGOY', 4.966602802276611), (10074, 'B001E2UGVQ', 4.960259437561035), (3059, 'B00001X50L', 4.947412967681885), (8802, 'B001AZ7RK0', 4.919321060180664)]}\n",
      "{'reviewerID': 'A3DIS5O83SQJWW', 'recommendations': [(5567, 'B00002SVO9', 4.6942338943481445), (10395, 'B004VF06AY', 4.6909499168396), (9536, 'B00006IKBG', 4.671868801116943), (8750, 'B000WPTGOY', 4.651263236999512), (10074, 'B001E2UGVQ', 4.644221305847168), (4772, 'B00004SVR9', 4.620852470397949), (8417, 'B000089SB6', 4.617880821228027), (8237, 'B000035XGG', 4.592724800109863), (5439, 'B004DGJP2G', 4.590885639190674), (10097, 'B001IAT7O6', 4.554593086242676)]}\n"
     ]
    }
   ],
   "source": [
    "# Recommend for users\n",
    "for reviewerID in ['A29KT7UP7DLM1J', 'A1WGVOVABHFDF3', 'A3DIS5O83SQJWW']:\n",
    "    find_user_rec = new_user_recs.filter(new_user_recs['reviewerID'] == reviewerID)\n",
    "    user = find_user_rec.first()\n",
    "    lst = []\n",
    "    for row in user['recommendations']:\n",
    "        row_f = df_asin_asin_idx.filter(df_asin_asin_idx.asin_idx == row['asin_idx'])\n",
    "        row_f_first = row_f.first()\n",
    "        lst.append((row['asin_idx'], row_f_first['asin'], row['rating']))\n",
    "    dic_user_rec = {'reviewerID' : user.reviewerID, 'recommendations' :lst}\n",
    "    print(dic_user_rec)"
   ]
  }
 ],
 "metadata": {
  "kernelspec": {
   "display_name": "Python 3",
   "language": "python",
   "name": "python3"
  },
  "language_info": {
   "codemirror_mode": {
    "name": "ipython",
    "version": 3
   },
   "file_extension": ".py",
   "mimetype": "text/x-python",
   "name": "python",
   "nbconvert_exporter": "python",
   "pygments_lexer": "ipython3",
   "version": "3.10.11"
  }
 },
 "nbformat": 4,
 "nbformat_minor": 2
}
