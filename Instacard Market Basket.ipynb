{
  "cells": [
    {
      "cell_type": "markdown",
      "metadata": {},
      "source": [
        "# Project : Instacard Market Basket"
      ]
    },
    {
      "cell_type": "markdown",
      "metadata": {},
      "source": [
        "Instacart, an on-line grocery delivery company, released their first public dataset “The Instacart Online Grocery Shopping Dataset 2017” with the goal of predicting the previously purchased items a user will add in their next order. \n",
        "\n",
        "This anonymized dataset contains a sample of over 3 million grocery orders from more than 200,000 Instacart users : https://www.kaggle.com/c/instacart-market-basket-analysis/data\n",
        "\n",
        "In this project, we will apply FPGrowth algorithm to find association rules from this dataset and build a recommender system in order to help Instacart improve customer shopping experience and increase sale.\n"
      ]
    },
    {
      "cell_type": "code",
      "execution_count": 2,
      "metadata": {
        "colab": {
          "base_uri": "https://localhost:8080/"
        },
        "id": "bKn-BJrt9B10",
        "outputId": "e96d550f-d49a-4591-c943-72649a359232"
      },
      "outputs": [
        {
          "data": {
            "text/html": [
              "\n",
              "        <div>\n",
              "            <p><b>SparkContext</b></p>\n",
              "\n",
              "            <p><a href=\"http://ToTran:4040\">Spark UI</a></p>\n",
              "\n",
              "            <dl>\n",
              "              <dt>Version</dt>\n",
              "                <dd><code>v3.5.1</code></dd>\n",
              "              <dt>Master</dt>\n",
              "                <dd><code>local</code></dd>\n",
              "              <dt>AppName</dt>\n",
              "                <dd><code>New Spark Context</code></dd>\n",
              "            </dl>\n",
              "        </div>\n",
              "        "
            ],
            "text/plain": [
              "<SparkContext master=local appName=New Spark Context>"
            ]
          },
          "execution_count": 2,
          "metadata": {},
          "output_type": "execute_result"
        }
      ],
      "source": [
        "import findspark\n",
        "findspark.init()\n",
        "from pyspark import SparkContext\n",
        "SparkContext.setSystemProperty('spark.hadoop.dfs.client.use.datanode.hostname', 'true')\n",
        "sc=SparkContext(master='local', appName='New Spark Context')\n",
        "sc"
      ]
    },
    {
      "cell_type": "code",
      "execution_count": 3,
      "metadata": {
        "colab": {
          "base_uri": "https://localhost:8080/"
        },
        "id": "EC2oTMH-9SrN",
        "outputId": "30db5e28-0f63-493c-ed0b-a58da4bded38"
      },
      "outputs": [
        {
          "data": {
            "text/html": [
              "\n",
              "            <div>\n",
              "                <p><b>SparkSession - in-memory</b></p>\n",
              "                \n",
              "        <div>\n",
              "            <p><b>SparkContext</b></p>\n",
              "\n",
              "            <p><a href=\"http://ToTran:4040\">Spark UI</a></p>\n",
              "\n",
              "            <dl>\n",
              "              <dt>Version</dt>\n",
              "                <dd><code>v3.5.1</code></dd>\n",
              "              <dt>Master</dt>\n",
              "                <dd><code>local</code></dd>\n",
              "              <dt>AppName</dt>\n",
              "                <dd><code>New Spark Context</code></dd>\n",
              "            </dl>\n",
              "        </div>\n",
              "        \n",
              "            </div>\n",
              "        "
            ],
            "text/plain": [
              "<pyspark.sql.session.SparkSession at 0x1d8e7a87280>"
            ]
          },
          "execution_count": 3,
          "metadata": {},
          "output_type": "execute_result"
        }
      ],
      "source": [
        "from pyspark.sql import SparkSession\n",
        "spark = SparkSession.builder.appName('FPM_demo').getOrCreate()\n",
        "spark"
      ]
    },
    {
      "cell_type": "code",
      "execution_count": 4,
      "metadata": {
        "id": "_AR2PhSr-Maq"
      },
      "outputs": [],
      "source": [
        "from pyspark.ml.fpm import FPGrowth\n",
        "from pyspark.sql.functions import *\n",
        "from pyspark.sql.types import StringType"
      ]
    },
    {
      "cell_type": "code",
      "execution_count": null,
      "metadata": {
        "id": "XXFshQlC9y8I"
      },
      "outputs": [],
      "source": [
        "# Loads data\n",
        "data = spark.read.csv(\"D:/DS/instacart_online_grocery_shopping_2017_05_01/instacart_2017_05_01/order_products__train.csv\", header=True, inferSchema=True)"
      ]
    },
    {
      "cell_type": "code",
      "execution_count": 11,
      "metadata": {
        "colab": {
          "base_uri": "https://localhost:8080/"
        },
        "id": "mMmfBkyA-EKC",
        "outputId": "a112d105-5c28-4ca6-8566-b6124843c768"
      },
      "outputs": [
        {
          "data": {
            "text/plain": [
              "1384617"
            ]
          },
          "execution_count": 11,
          "metadata": {},
          "output_type": "execute_result"
        }
      ],
      "source": [
        "data.count()"
      ]
    },
    {
      "cell_type": "code",
      "execution_count": 12,
      "metadata": {
        "colab": {
          "base_uri": "https://localhost:8080/"
        },
        "id": "KBjLvCVJ-IGq",
        "outputId": "20a3ad94-da06-4d05-8ac8-89c7efd656ed"
      },
      "outputs": [
        {
          "name": "stdout",
          "output_type": "stream",
          "text": [
            "+--------+----------+-----------------+---------+\n",
            "|order_id|product_id|add_to_cart_order|reordered|\n",
            "+--------+----------+-----------------+---------+\n",
            "|       1|     49302|                1|        1|\n",
            "|       1|     11109|                2|        1|\n",
            "|       1|     10246|                3|        0|\n",
            "|       1|     49683|                4|        0|\n",
            "|       1|     43633|                5|        1|\n",
            "|       1|     13176|                6|        0|\n",
            "|       1|     47209|                7|        0|\n",
            "|       1|     22035|                8|        1|\n",
            "|      36|     39612|                1|        0|\n",
            "|      36|     19660|                2|        1|\n",
            "+--------+----------+-----------------+---------+\n",
            "only showing top 10 rows\n",
            "\n"
          ]
        }
      ],
      "source": [
        "data.show(10)"
      ]
    },
    {
      "cell_type": "code",
      "execution_count": 13,
      "metadata": {},
      "outputs": [],
      "source": [
        "data.createOrReplaceTempView(\"order_products_train\")"
      ]
    },
    {
      "cell_type": "code",
      "execution_count": 14,
      "metadata": {},
      "outputs": [
        {
          "data": {
            "text/plain": [
              "39123"
            ]
          },
          "execution_count": 14,
          "metadata": {},
          "output_type": "execute_result"
        }
      ],
      "source": [
        "products = spark.sql(\"select distinct product_id from order_products_train\")\n",
        "products.count()"
      ]
    },
    {
      "cell_type": "code",
      "execution_count": null,
      "metadata": {},
      "outputs": [
        {
          "name": "stdout",
          "output_type": "stream",
          "text": [
            "+--------+--------------------------------------------------------------------------------------------------------------------------------------------------------------------------------------------------------------------------------------------------------------------------------------------------------------------------------------------+\n",
            "|order_id|items                                                                                                                                                                                                                                                                                                                                       |\n",
            "+--------+--------------------------------------------------------------------------------------------------------------------------------------------------------------------------------------------------------------------------------------------------------------------------------------------------------------------------------------------+\n",
            "|1       |[49683, 43633, 11109, 47209, 10246, 22035, 49302, 13176]                                                                                                                                                                                                                                                                                    |\n",
            "|36      |[46979, 34497, 48679, 39612, 19660, 43086, 49235, 46620]                                                                                                                                                                                                                                                                                    |\n",
            "|38      |[21616, 28842, 32433, 42625, 18159, 39693, 11913, 4461, 23622]                                                                                                                                                                                                                                                                              |\n",
            "|96      |[20574, 39275, 30391, 40706, 27966, 25610, 24489]                                                                                                                                                                                                                                                                                           |\n",
            "|98      |[34126, 44479, 9896, 45204, 35042, 36364, 26317, 329, 47333, 35951, 27966, 15995, 27509, 3880, 27683, 43560, 30776, 25659, 43654, 17747, 46313, 46720, 24964, 15455, 40986, 13176, 4357, 9373, 1939, 47601, 41387, 22935, 37664, 8859, 18441, 46413, 34065, 31066, 18117, 48287, 27344, 20520, 40396, 7461, 32463, 36695, 790, 45007, 19731]|\n",
            "+--------+--------------------------------------------------------------------------------------------------------------------------------------------------------------------------------------------------------------------------------------------------------------------------------------------------------------------------------------------+\n",
            "only showing top 5 rows\n",
            "\n"
          ]
        }
      ],
      "source": [
        "rawData = spark.sql(\"select * from order_products_train\")\n",
        "\n",
        "baskets = rawData.groupBy('order_id').agg(collect_set('product_id').alias('items'))\n",
        "baskets.show(5, False)"
      ]
    },
    {
      "cell_type": "code",
      "execution_count": 16,
      "metadata": {},
      "outputs": [],
      "source": [
        "fpg=FPGrowth(itemsCol='items', minSupport=0.003, minConfidence=0.003)\n",
        "model=fpg.fit(baskets)"
      ]
    },
    {
      "cell_type": "code",
      "execution_count": 19,
      "metadata": {},
      "outputs": [
        {
          "name": "stdout",
          "output_type": "stream",
          "text": [
            "+-------+----+\n",
            "|  items|freq|\n",
            "+-------+----+\n",
            "|[25146]|1054|\n",
            "|[46676]| 993|\n",
            "|[26940]| 730|\n",
            "|[39993]| 708|\n",
            "| [5025]|1445|\n",
            "|[45200]| 444|\n",
            "|[27325]| 441|\n",
            "| [7781]|1342|\n",
            "|[13629]| 772|\n",
            "|[30776]| 855|\n",
            "|[21376]| 753|\n",
            "|[33120]| 834|\n",
            "|[42625]| 658|\n",
            "|[47630]| 796|\n",
            "| [5785]|1535|\n",
            "|[44560]| 451|\n",
            "| [7644]| 398|\n",
            "| [8859]| 950|\n",
            "|[20734]| 420|\n",
            "|[32864]| 914|\n",
            "+-------+----+\n",
            "only showing top 20 rows\n",
            "\n"
          ]
        }
      ],
      "source": [
        "model.freqItemsets.show()"
      ]
    },
    {
      "cell_type": "code",
      "execution_count": null,
      "metadata": {},
      "outputs": [],
      "source": [
        "# Transform examines the input items against all the association rules and summarize the consequents as prediction\n",
        "mostPopularItemInABasket = model.transform(baskets)"
      ]
    },
    {
      "cell_type": "code",
      "execution_count": 24,
      "metadata": {},
      "outputs": [
        {
          "name": "stdout",
          "output_type": "stream",
          "text": [
            "-RECORD 0--------------------------------------------------------------------------------------------------------------------------------------------------------------------------------------------------------------------------------------------------------------------------------------------------------------------------------------------------------------------------------------------------------------\n",
            " order_id   | 1                                                                                                                                                                                                                                                                                                                                                                                                        \n",
            " items      | [49683, 43633, 11109, 47209, 10246, 22035, 49302, 13176]                                                                                                                                                                                                                                                                                                                                                 \n",
            " prediction | [31717, 16759, 19057, 41950, 12341, 37646, 26209, 43961, 46979, 43352, 39928, 27845, 19660, 28985, 34126, 21137, 47766, 22935, 24838, 48679, 39877, 47626, 45007, 45066, 27521, 4920, 16797, 9839, 22825, 17794, 44632, 26604, 46667, 39275, 49235, 8518, 5450, 11520, 8174, 8277, 27156, 28204, 27104, 27966, 40706, 10749, 42265, 35951, 21903, 30391, 18465, 21616, 44359, 24964, 5876, 30489, 24852] \n",
            "-RECORD 1--------------------------------------------------------------------------------------------------------------------------------------------------------------------------------------------------------------------------------------------------------------------------------------------------------------------------------------------------------------------------------------------------------------\n",
            " order_id   | 36                                                                                                                                                                                                                                                                                                                                                                                                       \n",
            " items      | [46979, 34497, 48679, 39612, 19660, 43086, 49235, 46620]                                                                                                                                                                                                                                                                                                                                                 \n",
            " prediction | [21137, 47766, 13176, 21903, 47209, 24852, 26209, 47626, 45007]                                                                                                                                                                                                                                                                                                                                          \n",
            "-RECORD 2--------------------------------------------------------------------------------------------------------------------------------------------------------------------------------------------------------------------------------------------------------------------------------------------------------------------------------------------------------------------------------------------------------------\n",
            " order_id   | 38                                                                                                                                                                                                                                                                                                                                                                                                       \n",
            " items      | [21616, 28842, 32433, 42625, 18159, 39693, 11913, 4461, 23622]                                                                                                                                                                                                                                                                                                                                           \n",
            " prediction | [21137, 47766, 47626, 13176, 21903, 24852, 26209]                                                                                                                                                                                                                                                                                                                                                        \n",
            "only showing top 3 rows\n",
            "\n"
          ]
        }
      ],
      "source": [
        "mostPopularItemInABasket.show(3, truncate=False, vertical=True)"
      ]
    },
    {
      "cell_type": "code",
      "execution_count": 22,
      "metadata": {},
      "outputs": [],
      "source": [
        "mostPopularItemInABasket.write.parquet(\"Chap9/MPIB.parquet\", mode = \"overwrite\")"
      ]
    },
    {
      "cell_type": "markdown",
      "metadata": {},
      "source": [
        "USE PRODUCT NAME INSTEAD OF PRODUCT ID"
      ]
    },
    {
      "cell_type": "code",
      "execution_count": 26,
      "metadata": {},
      "outputs": [],
      "source": [
        "product_data = spark.read.csv(\"D:/Tochan/DS/BIG DATA/DATABASE/instacart_online_grocery_shopping_2017_05_01/instacart_2017_05_01/products.csv\", header=True, inferSchema=True)"
      ]
    },
    {
      "cell_type": "code",
      "execution_count": 27,
      "metadata": {},
      "outputs": [
        {
          "name": "stdout",
          "output_type": "stream",
          "text": [
            "+----------+-----------------------------------------------------------------+--------+-------------+\n",
            "|product_id|product_name                                                     |aisle_id|department_id|\n",
            "+----------+-----------------------------------------------------------------+--------+-------------+\n",
            "|1         |Chocolate Sandwich Cookies                                       |61      |19           |\n",
            "|2         |All-Seasons Salt                                                 |104     |13           |\n",
            "|3         |Robust Golden Unsweetened Oolong Tea                             |94      |7            |\n",
            "|4         |Smart Ones Classic Favorites Mini Rigatoni With Vodka Cream Sauce|38      |1            |\n",
            "|5         |Green Chile Anytime Sauce                                        |5       |13           |\n",
            "+----------+-----------------------------------------------------------------+--------+-------------+\n",
            "only showing top 5 rows\n",
            "\n"
          ]
        }
      ],
      "source": [
        "product_data.show(5, truncate=False)"
      ]
    },
    {
      "cell_type": "code",
      "execution_count": 30,
      "metadata": {},
      "outputs": [],
      "source": [
        "product_data.createOrReplaceTempView(\"products\")"
      ]
    },
    {
      "cell_type": "code",
      "execution_count": 31,
      "metadata": {},
      "outputs": [
        {
          "name": "stdout",
          "output_type": "stream",
          "text": [
            "+--------+-------------------------------------------------------------------------------------------------------------------------------------------------------------------------------------------------------------------------------------------------------------------------------------------------------------------------------------------------------------------------------------------------------------------------------------------------------------------------------------------------------------------------------------------------------------------------------------------------------------------------------------------------------------------------------------------------------------------------------------------------------------------------------------------------------------------------------------------------------------------------------------------------------------------------------------------------------------------------------------------------------------------------------------------------------------------------------------------------------------------------------------------------------------------------------------------------------------------------------------------------------------------------------------------------------------------------------------------------------------------+\n",
            "|order_id|items                                                                                                                                                                                                                                                                                                                                                                                                                                                                                                                                                                                                                                                                                                                                                                                                                                                                                                                                                                                                                                                                                                                                                                                                                                                                                                                                                              |\n",
            "+--------+-------------------------------------------------------------------------------------------------------------------------------------------------------------------------------------------------------------------------------------------------------------------------------------------------------------------------------------------------------------------------------------------------------------------------------------------------------------------------------------------------------------------------------------------------------------------------------------------------------------------------------------------------------------------------------------------------------------------------------------------------------------------------------------------------------------------------------------------------------------------------------------------------------------------------------------------------------------------------------------------------------------------------------------------------------------------------------------------------------------------------------------------------------------------------------------------------------------------------------------------------------------------------------------------------------------------------------------------------------------------+\n",
            "|1       |[Bag of Organic Bananas, Cucumber Kirby, Lightly Smoked Sardines in Olive Oil, Organic 4% Milk Fat Whole Milk Cottage Cheese, Organic Whole String Cheese, Organic Celery Hearts, Organic Hass Avocado, Bulgarian Yogurt]                                                                                                                                                                                                                                                                                                                                                                                                                                                                                                                                                                                                                                                                                                                                                                                                                                                                                                                                                                                                                                                                                                                                          |\n",
            "|36      |[Cage Free Extra Large Grade AA Eggs, Spring Water, Organic Half & Half, Organic Garnet Sweet Potato (Yam), Super Greens Salad, Prosciutto, Americano, Grated Pecorino Romano Cheese, Asparagus]                                                                                                                                                                                                                                                                                                                                                                                                                                                                                                                                                                                                                                                                                                                                                                                                                                                                                                                                                                                                                                                                                                                                                                   |\n",
            "|38      |[Bunched Cilantro, Organic Baby Arugula, Organic Hot House Tomato, Fresh Dill, Flat Parsley, Bunch, Green Peas, Shelled Pistachios, Organic Raw Unfiltered Apple Cider Vinegar, Organic Biologique Limes]                                                                                                                                                                                                                                                                                                                                                                                                                                                                                                                                                                                                                                                                                                                                                                                                                                                                                                                                                                                                                                                                                                                                                          |\n",
            "|96      |[Roasted Turkey, Organic Cucumber, Organic Raspberries, Organic Whole Strawberries, Organic Grape Tomatoes, Organic Pomegranate Kernels, Organic Blueberries]                                                                                                                                                                                                                                                                                                                                                                                                                                                                                                                                                                                                                                                                                                                                                                                                                                                                                                                                                                                                                                                                                                                                                                                                      |\n",
            "|98      |[Geranium Liquid Dish Soap, Organic Raspberries, Organic Extra Virgin Oil Olive, 100% Organic Unbleached All-Purpose Flour, Organic 2% Buttermilk, Pinto Beans No Salt Added, Organic Zucchini, Olive Oil & Aloe Vera Hand Soap, Unsalted Cultured Butter, Whole Milk Greek Blended Vanilla Bean Yogurt, Uncured Applewood Smoked Bacon, Baby Swiss Slices Cheese, Queso Fresco, Aluminum Foil, Mild Diced Green Chiles, Organic Chocolate Almondmilk Pudding, Bag of Organic Bananas, Organic Whole Grassmilk Milk, Organic Free Range Chicken Broth, Natural Chicken & Maple Breakfast Sausage Patty, Organic Raw Kombucha Gingerade, Organic Hothouse Cucumbers, Organic Italian Parsley Bunch, Sliced Pepperoni, Plastic Spoons, Black Beans No Salt Added, Organic Ketchup, Organic Orange Juice With Calcium & Vitamin D, Organic Yellow Onion, Raspberry Sorbet Pops, Black Beans, Tomatoes, Crushed, Organic, Organic Unsweetened Almond Milk, Organic Garlic, Organic Corn Starch, Organic Coconut Milk, Crackers, Oyster, Organic Stringles Mozzarella String Cheese, Organic Sliced Provalone Cheese, Garbanzo Beans, Plastic Wrap, Organic Seasoned Yukon Select Potatoes Hashed Browns, Organic Cinnamon Apple Sauce, Corn Maize Tortillas, Natural Spring Water, Organic Lemonade, Lavender Scent Laundry Detergent, Guacamole, Uncured Genoa Salami]|\n",
            "|112     |[Umcka Elderberry Intensive Cold + Flu Berry Flavor, Fresh Cauliflower, I Heart Baby Kale, Hickory Honey Barbeque Baked Potato Chips, Sea Salt Baked Potato Chips, Premium Epsom Salt, Baked Sea Salt & Vinegar Potato Chips, Organic Hass Avocado, Organic Lemon, Marinara Pasta Sauce, Coconut Water Kefir]                                                                                                                                                                                                                                                                                                                                                                                                                                                                                                                                                                                                                                                                                                                                                                                                                                                                                                                                                                                                                                                      |\n",
            "|170     |[Classic Movie Theater Popcorn, Brown Rice, BBQ Ranch Chopped Salad, Cherubs Heavenly Salad Tomatoes, Xpolsive Pizza Baked Snack Crackers, California Clementines, 100% Whole Wheat Bread, Natural Creamy Peanut Butter Spread, Bag of Organic Bananas, Asian Chopped Salad with Dressing, Baby Spinach, XL Emerald White Seedless Grapes, Carrots, Potato Spinach & Garlic, Organic Strawberries, Plain Non-Fat Greek Yogurt, Vanilla Unsweetened Almond Milk]                                                                                                                                                                                                                                                                                                                                                                                                                                                                                                                                                                                                                                                                                                                                                                                                                                                                                                    |\n",
            "|218     |[Okra, Black Plum, Citrus Mandarins Organic, Organic Yellow Peaches, Natural Artisan Water]                                                                                                                                                                                                                                                                                                                                                                                                                                                                                                                                                                                                                                                                                                                                                                                                                                                                                                                                                                                                                                                                                                                                                                                                                                                                        |\n",
            "|226     |[\"Magic Tape Refillable Dispenser 3/4\"\" x 850\\\"\"\", Take & Toss 10oz Cups w/ Straws, Wrap Aluminum Foil Heavy Duty, Clementines, Bag, Soft White 60 Watts Halogen Bulb, Kids! Chewables Probiotic Tablets Natural Bursting Berry Flavor, Choose-A-Size White Paper Towels 8 Giant Rolls, Organic Blueberries, Organic 2% Reduced Fat Milk, Blackberry Cucumber Sparkling Water, Banana, Maximum Strength Original Paste Diaper Rash Ointment, Vitamin D Whole Milk]                                                                                                                                                                                                                                                                                                                                                                                                                                                                                                                                                                                                                                                                                                                                                                                                                                                                                                 |\n",
            "|349     |[Organic Beef Hot Dogs, Pure Almond Unsweetened Original Almond Milk, Natural Chicken & Sage Breakfast Sausage, Pure Irish Butter, Honeysuckle Dish Soap, Organic Green Grapes, Organic Medium Brown Eggs, Large Alfresco Eggs, Organics Vitamin C Fortified 100% Apple Juice, Organics Big Bird's Apple 100% Juice, Uncured Hickory Smoked Sunday Bacon]                                                                                                                                                                                                                                                                                                                                                                                                                                                                                                                                                                                                                                                                                                                                                                                                                                                                                                                                                                                                          |\n",
            "+--------+-------------------------------------------------------------------------------------------------------------------------------------------------------------------------------------------------------------------------------------------------------------------------------------------------------------------------------------------------------------------------------------------------------------------------------------------------------------------------------------------------------------------------------------------------------------------------------------------------------------------------------------------------------------------------------------------------------------------------------------------------------------------------------------------------------------------------------------------------------------------------------------------------------------------------------------------------------------------------------------------------------------------------------------------------------------------------------------------------------------------------------------------------------------------------------------------------------------------------------------------------------------------------------------------------------------------------------------------------------------------+\n",
            "only showing top 10 rows\n",
            "\n"
          ]
        }
      ],
      "source": [
        "rawData_1 = spark.sql(\"select p.product_name, o.order_id from products p inner join order_products_train o where o.product_id = p.product_id\")\n",
        "baskets_1 = rawData_1.groupBy('order_id').agg(collect_set('product_name').alias('items'))\n",
        "baskets_1.show(10, False)"
      ]
    },
    {
      "cell_type": "code",
      "execution_count": 32,
      "metadata": {},
      "outputs": [],
      "source": [
        "fpGrowth_1 = FPGrowth(itemsCol=\"items\", minSupport=0.003, minConfidence=0.003)\n",
        "model_1 = fpGrowth_1.fit(baskets_1)"
      ]
    },
    {
      "cell_type": "code",
      "execution_count": null,
      "metadata": {},
      "outputs": [
        {
          "name": "stdout",
          "output_type": "stream",
          "text": [
            "+----------------------------------------------------------------+----+\n",
            "|items                                                           |freq|\n",
            "+----------------------------------------------------------------+----+\n",
            "|[Original Orange Juice]                                         |1054|\n",
            "|[Total 0% Nonfat Greek Yogurt]                                  |993 |\n",
            "|[Organic Cripps Pink Apples]                                    |730 |\n",
            "|[Vine Ripe Tomatoes]                                            |708 |\n",
            "|[Green Onions]                                                  |1445|\n",
            "|[Organic Cauliflower]                                           |444 |\n",
            "|[Organic Sticks Low Moisture Part Skim Mozzarella String Cheese]|1342|\n",
            "|[Total 0% Raspberry Yogurt]                                     |441 |\n",
            "|[Organic Snipped Green Beans]                                   |772 |\n",
            "|[Organic Raw Kombucha Gingerade]                                |855 |\n",
            "|[Organic Frozen Peas]                                           |753 |\n",
            "|[Organic Egg Whites]                                            |834 |\n",
            "|[Flat Parsley, Bunch]                                           |658 |\n",
            "|[Medium Navel Orange]                                           |796 |\n",
            "|[Organic Reduced Fat 2% Milk]                                   |1535|\n",
            "|[Kids Organic Chocolate Chip ZBars]                             |451 |\n",
            "|[Natural Spring Water]                                          |950 |\n",
            "|[Organic Mixed Vegetables]                                      |398 |\n",
            "|[Non Fat Acai & Mixed Berries Yogurt]                           |420 |\n",
            "|[Organic Baby Rainbow Carrots]                                  |914 |\n",
            "+----------------------------------------------------------------+----+\n",
            "only showing top 20 rows\n",
            "\n"
          ]
        }
      ],
      "source": [
        "# Display frequent itemsets\n",
        "model_1.freqItemsets.show(truncate=False)"
      ]
    },
    {
      "cell_type": "code",
      "execution_count": 34,
      "metadata": {},
      "outputs": [],
      "source": [
        "mostPopularItemInABasket_1 = model_1.transform(baskets_1)"
      ]
    },
    {
      "cell_type": "code",
      "execution_count": 35,
      "metadata": {},
      "outputs": [
        {
          "name": "stdout",
          "output_type": "stream",
          "text": [
            "-RECORD 0-------------------------------------------------------------------------------------------------------------------------------------------------------------------------------------------------------------------------------------------------------------------------------------------------------------------------------------------------------------------------------------------------------------------------------------------------------------------------------------------------------------------------------------------------------------------------------------------------------------------------------------------------------------------------------------------------------------------------------------------------------------------------------------------------------------------------------------------------------------------------------------------------------------------------------------------------------------------------------------------------------------------------------------------------------------------------------------------------------------------------------------------------------------------------------------------------------------------------------------------------------------------------\n",
            " order_id   | 1                                                                                                                                                                                                                                                                                                                                                                                                                                                                                                                                                                                                                                                                                                                                                                                                                                                                                                                                                                                                                                                                                                                                                                                                                                                                   \n",
            " items      | [Bag of Organic Bananas, Cucumber Kirby, Lightly Smoked Sardines in Olive Oil, Organic 4% Milk Fat Whole Milk Cottage Cheese, Organic Whole String Cheese, Organic Celery Hearts, Organic Hass Avocado, Bulgarian Yogurt]                                                                                                                                                                                                                                                                                                                                                                                                                                                                                                                                                                                                                                                                                                                                                                                                                                                                                                                                                                                                                                           \n",
            " prediction | [Organic Strawberries, Banana, Organic Cilantro, Organic Large Extra Fancy Fuji Apple, Organic Tomato Cluster, Organic Gala Apples, Limes, Asparagus, Organic Whole Milk, Organic Yellow Onion, Organic Garnet Sweet Potato (Yam), Organic Zucchini, Organic Blueberries, Organic Red Onion, Apple Honeycrisp Organic, Organic Raspberries, Organic Grape Tomatoes, Organic Red Bell Pepper, Organic Baby Carrots, Organic Cucumber, Organic Small Bunch Celery, Organic Garlic, Organic Lemon, Large Lemon, Organic Baby Spinach, Organic Avocado, Organic Carrot Bunch, Hass Avocados, Organic Peeled Whole Baby Carrots, Raspberries, Organic Kiwi, Spring Water, Michigan Organic Kale, Organic Italian Parsley Bunch, Unsweetened Almondmilk, Organic Granny Smith Apple, Honeycrisp Apple, Organic Lacinato (Dinosaur) Kale, Seedless Red Grapes, Strawberries, Organic Broccoli, Organic D'Anjou Pears, Carrots, Sparkling Water Grapefruit, Organic Blackberries, Organic Ginger Root, Organic Half & Half, Small Hass Avocado, Large Alfresco Eggs, Organic Navel Orange, Organic Black Beans, Organic Fuji Apple, Fresh Cauliflower, Organic Unsweetened Almond Milk, Organic Grade A Free Range Large Brown Eggs, Organic Baby Arugula, Original Hummus] \n",
            "-RECORD 1-------------------------------------------------------------------------------------------------------------------------------------------------------------------------------------------------------------------------------------------------------------------------------------------------------------------------------------------------------------------------------------------------------------------------------------------------------------------------------------------------------------------------------------------------------------------------------------------------------------------------------------------------------------------------------------------------------------------------------------------------------------------------------------------------------------------------------------------------------------------------------------------------------------------------------------------------------------------------------------------------------------------------------------------------------------------------------------------------------------------------------------------------------------------------------------------------------------------------------------------------------------------------\n",
            " order_id   | 36                                                                                                                                                                                                                                                                                                                                                                                                                                                                                                                                                                                                                                                                                                                                                                                                                                                                                                                                                                                                                                                                                                                                                                                                                                                                  \n",
            " items      | [Cage Free Extra Large Grade AA Eggs, Spring Water, Organic Half & Half, Organic Garnet Sweet Potato (Yam), Super Greens Salad, Prosciutto, Americano, Grated Pecorino Romano Cheese, Asparagus]                                                                                                                                                                                                                                                                                                                                                                                                                                                                                                                                                                                                                                                                                                                                                                                                                                                                                                                                                                                                                                                                    \n",
            " prediction | [Limes, Organic Strawberries, Organic Avocado, Large Lemon, Organic Zucchini, Bag of Organic Bananas, Organic Baby Spinach, Organic Hass Avocado, Banana]                                                                                                                                                                                                                                                                                                                                                                                                                                                                                                                                                                                                                                                                                                                                                                                                                                                                                                                                                                                                                                                                                                           \n",
            "-RECORD 2-------------------------------------------------------------------------------------------------------------------------------------------------------------------------------------------------------------------------------------------------------------------------------------------------------------------------------------------------------------------------------------------------------------------------------------------------------------------------------------------------------------------------------------------------------------------------------------------------------------------------------------------------------------------------------------------------------------------------------------------------------------------------------------------------------------------------------------------------------------------------------------------------------------------------------------------------------------------------------------------------------------------------------------------------------------------------------------------------------------------------------------------------------------------------------------------------------------------------------------------------------------------------\n",
            " order_id   | 38                                                                                                                                                                                                                                                                                                                                                                                                                                                                                                                                                                                                                                                                                                                                                                                                                                                                                                                                                                                                                                                                                                                                                                                                                                                                  \n",
            " items      | [Bunched Cilantro, Organic Baby Arugula, Organic Hot House Tomato, Fresh Dill, Flat Parsley, Bunch, Green Peas, Shelled Pistachios, Organic Raw Unfiltered Apple Cider Vinegar, Organic Biologique Limes]                                                                                                                                                                                                                                                                                                                                                                                                                                                                                                                                                                                                                                                                                                                                                                                                                                                                                                                                                                                                                                                           \n",
            " prediction | [Organic Strawberries, Organic Avocado, Large Lemon, Bag of Organic Bananas, Organic Baby Spinach, Banana, Limes]                                                                                                                                                                                                                                                                                                                                                                                                                                                                                                                                                                                                                                                                                                                                                                                                                                                                                                                                                                                                                                                                                                                                                   \n",
            "only showing top 3 rows\n",
            "\n"
          ]
        }
      ],
      "source": [
        "mostPopularItemInABasket_1.show(3, truncate=False, vertical=True)"
      ]
    },
    {
      "cell_type": "markdown",
      "metadata": {},
      "source": [
        "MAKE RECOMMENDATION"
      ]
    },
    {
      "cell_type": "code",
      "execution_count": 36,
      "metadata": {},
      "outputs": [
        {
          "name": "stdout",
          "output_type": "stream",
          "text": [
            "+--------------+----------+--------------------+------------------+--------------------+\n",
            "|    antecedent|consequent|          confidence|              lift|             support|\n",
            "+--------------+----------+--------------------+------------------+--------------------+\n",
            "|[30391, 13176]|   [21137]|   0.334384858044164| 4.027382305775355|0.003231485645039...|\n",
            "|       [27156]|   [13176]|  0.2614213197969543|2.2158158881937067|0.003140028504142246|\n",
            "|       [41950]|   [21137]| 0.19188337273443656| 2.311072650368339|0.003711635634750665|\n",
            "|       [41950]|   [13176]|  0.2501970055161544| 2.120678223305498|0.004839607039151278|\n",
            "|       [41950]|   [21903]| 0.16784869976359337| 2.250946448005041|0.003246728501855...|\n",
            "|       [41950]|   [47209]| 0.19345941686367218|3.4805452663191505|0.003742121348383...|\n",
            "|       [41950]|   [24852]| 0.16193853427895982|1.1346680094098065|0.003132407075734134|\n",
            "|[47626, 24852]|   [26209]| 0.20945319740500462|  4.55530326177909|0.003444885640466...|\n",
            "|[47626, 24852]|   [47766]| 0.22103799814643188|3.9144519771622597|0.003635421350669...|\n",
            "|       [13176]|   [31717]| 0.04612403100775194|1.7163607443267512|0.005441699883392145|\n",
            "|       [13176]|   [16759]|0.030038759689922482|2.2625462802267733|0.003543964209772...|\n",
            "|       [13176]|   [19057]| 0.06285529715762274|  2.85270864225338|0.007415649841093...|\n",
            "|       [13176]|   [41950]| 0.04102067183462532| 2.120678223305498|0.004839607039151278|\n",
            "|       [13176]|   [12341]| 0.03578811369509044| 2.063147016616486|0.004222271338094186|\n",
            "|       [13176]|   [22035]| 0.03791989664082687| 2.496453446234949| 0.00447377847556189|\n",
            "|       [13176]|   [37646]| 0.05232558139534884|2.4441392699545483|0.006173357010570921|\n",
            "|       [13176]|   [26209]| 0.06020671834625323|  1.30940880283334|0.007103171276360615|\n",
            "|       [13176]|   [43961]|0.037209302325581395|1.9846322556248819|0.004389942763072655|\n",
            "|       [13176]|   [46979]|0.047028423772609816|1.5952824340176737|0.005548399881105717|\n",
            "|       [13176]|   [43352]| 0.03591731266149871| 1.437229239708016| 0.00423751419491041|\n",
            "+--------------+----------+--------------------+------------------+--------------------+\n",
            "only showing top 20 rows\n",
            "\n"
          ]
        }
      ],
      "source": [
        "# List associationRules\n",
        "model.associationRules.show()"
      ]
    },
    {
      "cell_type": "code",
      "execution_count": null,
      "metadata": {},
      "outputs": [
        {
          "name": "stdout",
          "output_type": "stream",
          "text": [
            "+----------+----------+-------------------+------------------+--------------------+\n",
            "|antecedent|consequent|         confidence|              lift|             support|\n",
            "+----------+----------+-------------------+------------------+--------------------+\n",
            "|    [4605]|   [26209]| 0.1318447634237108|2.8674323825727948|0.003780228490423...|\n",
            "|    [4605]|   [47766]|0.14221158958001062| 2.518482987880094|0.004077464198340053|\n",
            "|    [4605]|   [47626]|0.19856459330143542|3.2026381957575953| 0.00569320702085985|\n",
            "|    [4605]|   [21903]| 0.1446039340776183|1.9392209307430721|0.004146057054013063|\n",
            "|    [4605]|   [24852]|  0.284688995215311|1.9947537313470969|0.008162549825088218|\n",
            "+----------+----------+-------------------+------------------+--------------------+\n",
            "\n"
          ]
        }
      ],
      "source": [
        "# Filter out the rules that have an antecedent containing product_id\n",
        "filtered_rules = model.associationRules.filter(array_contains(model.associationRules[\"antecedent\"], 4605))\n",
        "filtered_rules.show()"
      ]
    },
    {
      "cell_type": "code",
      "execution_count": null,
      "metadata": {},
      "outputs": [],
      "source": [
        "def get_associated_products(product_id, model, data, top_n=3):\n",
        "    # Create a DataFrame\n",
        "    association_rules = model.associationRules\n",
        "\n",
        "    # # Filter out the rules that have an antecedent containing product_id\n",
        "    filtered_rules = association_rules.filter(array_contains(association_rules[\"antecedent\"], product_id))\n",
        "\n",
        "    # Sort the rules by confidence in descending order and select the top_n products\n",
        "    top_associated_products = (filtered_rules\n",
        "                               .orderBy(\"confidence\", ascending=False)\n",
        "                               .limit(top_n)\n",
        "                               .select(explode(\"consequent\").alias(\"associated_product_id\")))\n",
        "\n",
        "    # Retrieve detailed product information from the DataFrame based on product_id\n",
        "    associated_product_details = (top_associated_products\n",
        "                                  .join(data, top_associated_products[\"associated_product_id\"] == data[\"product_id\"])\n",
        "                                  .select(\"product_id\", \"product_name\"))\n",
        "\n",
        "    # Return a list of products that are bought together\n",
        "    return associated_product_details.collect()"
      ]
    },
    {
      "cell_type": "code",
      "execution_count": 39,
      "metadata": {},
      "outputs": [
        {
          "name": "stdout",
          "output_type": "stream",
          "text": [
            "+----------+-------------+--------+-------------+\n",
            "|product_id| product_name|aisle_id|department_id|\n",
            "+----------+-------------+--------+-------------+\n",
            "|      4605|Yellow Onions|      83|            4|\n",
            "+----------+-------------+--------+-------------+\n",
            "\n"
          ]
        }
      ],
      "source": [
        "product_data.filter(product_data.product_id == 4605).show()"
      ]
    },
    {
      "cell_type": "code",
      "execution_count": 40,
      "metadata": {},
      "outputs": [],
      "source": [
        "associated_products = get_associated_products(4605, model, product_data)"
      ]
    },
    {
      "cell_type": "code",
      "execution_count": 41,
      "metadata": {},
      "outputs": [
        {
          "name": "stdout",
          "output_type": "stream",
          "text": [
            "Product ID: 21903, Product Name: Organic Baby Spinach\n",
            "Product ID: 24852, Product Name: Banana\n",
            "Product ID: 47626, Product Name: Large Lemon\n"
          ]
        }
      ],
      "source": [
        "for product in associated_products:\n",
        "    print(f\"Product ID: {product['product_id']}, Product Name: {product['product_name']}\")"
      ]
    }
  ],
  "metadata": {
    "colab": {
      "provenance": []
    },
    "kernelspec": {
      "display_name": "Python 3",
      "name": "python3"
    },
    "language_info": {
      "codemirror_mode": {
        "name": "ipython",
        "version": 3
      },
      "file_extension": ".py",
      "mimetype": "text/x-python",
      "name": "python",
      "nbconvert_exporter": "python",
      "pygments_lexer": "ipython3",
      "version": "3.10.11"
    }
  },
  "nbformat": 4,
  "nbformat_minor": 0
}
