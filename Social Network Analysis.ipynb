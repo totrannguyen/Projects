{
 "cells": [
  {
   "cell_type": "markdown",
   "metadata": {},
   "source": [
    "# Project : Social Network Analysis"
   ]
  },
  {
   "cell_type": "markdown",
   "metadata": {},
   "source": [
    "In this project, we will explore the functionality of GraphX by analyzing social networks. In these networks, users are represented as vertices (nodes), and the relationships between users, such as friendships, are represented as edges. \n",
    "\n",
    "Through this exploration, we aim to better understand how GraphX operates and how it can be used to process and analyze large-scale graph data efficiently. By leveraging GraphX's powerful graph processing capabilities, we will gain insights into its ability to handle graph structures at scale and perform operations like traversal, aggregation, and applying graph algorithms."
   ]
  },
  {
   "cell_type": "code",
   "execution_count": null,
   "metadata": {
    "id": "NWMQj7heYRBZ"
   },
   "outputs": [],
   "source": [
    "import findspark\n",
    "findspark.init()\n",
    "import pyspark\n",
    "import os"
   ]
  },
  {
   "cell_type": "code",
   "execution_count": 4,
   "metadata": {
    "id": "8HYclaUYYRBa",
    "outputId": "bd746404-ae3a-46ea-f959-aafdf99de5bd"
   },
   "outputs": [
    {
     "name": "stdout",
     "output_type": "stream",
     "text": [
      "[('spark.driver.extraJavaOptions', '-Djava.net.preferIPv6Addresses=false -XX:+IgnoreUnrecognizedVMOptions --add-opens=java.base/java.lang=ALL-UNNAMED --add-opens=java.base/java.lang.invoke=ALL-UNNAMED --add-opens=java.base/java.lang.reflect=ALL-UNNAMED --add-opens=java.base/java.io=ALL-UNNAMED --add-opens=java.base/java.net=ALL-UNNAMED --add-opens=java.base/java.nio=ALL-UNNAMED --add-opens=java.base/java.util=ALL-UNNAMED --add-opens=java.base/java.util.concurrent=ALL-UNNAMED --add-opens=java.base/java.util.concurrent.atomic=ALL-UNNAMED --add-opens=java.base/jdk.internal.ref=ALL-UNNAMED --add-opens=java.base/sun.nio.ch=ALL-UNNAMED --add-opens=java.base/sun.nio.cs=ALL-UNNAMED --add-opens=java.base/sun.security.action=ALL-UNNAMED --add-opens=java.base/sun.util.calendar=ALL-UNNAMED --add-opens=java.security.jgss/sun.security.krb5=ALL-UNNAMED -Djdk.reflect.useDirectMethodHandle=false'), ('spark.app.id', 'local-1739362073260'), ('spark.app.submitTime', '1739362071219'), ('spark.jars', 'file:///C:/Users/Zenbook/.ivy2/jars/graphframes_graphframes-0.8.2-spark3.2-s_2.12.jar,file:///C:/Users/Zenbook/.ivy2/jars/org.slf4j_slf4j-api-1.7.16.jar'), ('spark.executor.id', 'driver'), ('spark.repl.local.jars', 'file:///C:/Users/Zenbook/.ivy2/jars/graphframes_graphframes-0.8.2-spark3.2-s_2.12.jar,file:///C:/Users/Zenbook/.ivy2/jars/org.slf4j_slf4j-api-1.7.16.jar'), ('spark.app.startTime', '1739362071443'), ('spark.app.name', 'pyspark-shell'), ('spark.driver.host', 'ToTran'), ('spark.rdd.compress', 'True'), ('spark.executor.extraJavaOptions', '-Djava.net.preferIPv6Addresses=false -XX:+IgnoreUnrecognizedVMOptions --add-opens=java.base/java.lang=ALL-UNNAMED --add-opens=java.base/java.lang.invoke=ALL-UNNAMED --add-opens=java.base/java.lang.reflect=ALL-UNNAMED --add-opens=java.base/java.io=ALL-UNNAMED --add-opens=java.base/java.net=ALL-UNNAMED --add-opens=java.base/java.nio=ALL-UNNAMED --add-opens=java.base/java.util=ALL-UNNAMED --add-opens=java.base/java.util.concurrent=ALL-UNNAMED --add-opens=java.base/java.util.concurrent.atomic=ALL-UNNAMED --add-opens=java.base/jdk.internal.ref=ALL-UNNAMED --add-opens=java.base/sun.nio.ch=ALL-UNNAMED --add-opens=java.base/sun.nio.cs=ALL-UNNAMED --add-opens=java.base/sun.security.action=ALL-UNNAMED --add-opens=java.base/sun.util.calendar=ALL-UNNAMED --add-opens=java.security.jgss/sun.security.krb5=ALL-UNNAMED -Djdk.reflect.useDirectMethodHandle=false'), ('spark.submit.pyFiles', 'C:/Users/Zenbook/.ivy2/jars/graphframes_graphframes-0.8.2-spark3.2-s_2.12.jar,C:/Users/Zenbook/.ivy2/jars/org.slf4j_slf4j-api-1.7.16.jar'), ('spark.files', 'file:///C:/Users/Zenbook/.ivy2/jars/graphframes_graphframes-0.8.2-spark3.2-s_2.12.jar,file:///C:/Users/Zenbook/.ivy2/jars/org.slf4j_slf4j-api-1.7.16.jar'), ('spark.serializer.objectStreamReset', '100'), ('spark.master', 'local[*]'), ('spark.submit.deployMode', 'client'), ('spark.app.initial.jar.urls', 'spark://ToTran:63983/jars/graphframes_graphframes-0.8.2-spark3.2-s_2.12.jar,spark://ToTran:63983/jars/org.slf4j_slf4j-api-1.7.16.jar'), ('spark.ui.showConsoleProgress', 'true'), ('spark.driver.port', '63983'), ('spark.app.initial.file.urls', 'file:///C:/Users/Zenbook/.ivy2/jars/graphframes_graphframes-0.8.2-spark3.2-s_2.12.jar,file:///C:/Users/Zenbook/.ivy2/jars/org.slf4j_slf4j-api-1.7.16.jar')]\n"
     ]
    }
   ],
   "source": [
    "conf = pyspark.SparkConf()\n",
    "sc = pyspark.SparkContext(conf=conf)\n",
    "print(sc._conf.getAll())"
   ]
  },
  {
   "cell_type": "code",
   "execution_count": 5,
   "metadata": {
    "id": "g8csDH90YRBb"
   },
   "outputs": [],
   "source": [
    "from pyspark.sql import *"
   ]
  },
  {
   "cell_type": "markdown",
   "metadata": {
    "id": "LS5RH-PZYRBc"
   },
   "source": [
    "Create graph"
   ]
  },
  {
   "cell_type": "code",
   "execution_count": 6,
   "metadata": {
    "id": "NwBPmJsFYRBd"
   },
   "outputs": [],
   "source": [
    "from graphframes import *"
   ]
  },
  {
   "cell_type": "code",
   "execution_count": 7,
   "metadata": {
    "id": "FoBT7MV6YRBd"
   },
   "outputs": [],
   "source": [
    "spark = SparkSession(sc)"
   ]
  },
  {
   "cell_type": "code",
   "execution_count": 8,
   "metadata": {
    "id": "ZHIyvOjeYRBe"
   },
   "outputs": [],
   "source": [
    "vertices = spark.createDataFrame([('1', 'Carter', 50),\n",
    "                                  ('2', 'May', 26),\n",
    "                                 ('3', 'Mills', 80),\n",
    "                                  ('4', 'Hood', 65),\n",
    "                                  ('5', 'Banks', 93),\n",
    "                                 ('98', 'Berg', 28),\n",
    "                                 ('99', 'Page', 16)],\n",
    "                                 ['id', 'name', 'age'])\n",
    "edges = spark.createDataFrame([('1', '2', 'friend'),\n",
    "                               ('1', '98', 'friend'),\n",
    "                               ('2', '1', 'friend'),\n",
    "                              ('3', '1', 'friend'),\n",
    "                              ('1', '3', 'friend'),\n",
    "                               ('2', '3', 'follows'),\n",
    "                               ('3', '4', 'friend'),\n",
    "                               ('4', '3', 'friend'),\n",
    "                               ('5', '3', 'friend'),\n",
    "                               ('3', '5', 'friend'),\n",
    "                               ('4', '5', 'follows'),\n",
    "                              ('98', '99', 'friend'),\n",
    "                              ('99', '98', 'friend')],\n",
    "                              ['src', 'dst', 'type'])"
   ]
  },
  {
   "cell_type": "code",
   "execution_count": 9,
   "metadata": {},
   "outputs": [
    {
     "name": "stderr",
     "output_type": "stream",
     "text": [
      "C:\\Spark\\spark-3.5.1-bin-hadoop3\\python\\pyspark\\sql\\dataframe.py:168: UserWarning: DataFrame.sql_ctx is an internal property, and will be removed in future releases. Use DataFrame.sparkSession instead.\n",
      "  warnings.warn(\n"
     ]
    }
   ],
   "source": [
    "g = GraphFrame(vertices, edges)"
   ]
  },
  {
   "cell_type": "code",
   "execution_count": 10,
   "metadata": {},
   "outputs": [
    {
     "name": "stdout",
     "output_type": "stream",
     "text": [
      "+---+------+---+\n",
      "| id|  name|age|\n",
      "+---+------+---+\n",
      "|  1|Carter| 50|\n",
      "|  2|   May| 26|\n",
      "|  3| Mills| 80|\n",
      "|  4|  Hood| 65|\n",
      "|  5| Banks| 93|\n",
      "| 98|  Berg| 28|\n",
      "| 99|  Page| 16|\n",
      "+---+------+---+\n",
      "\n"
     ]
    }
   ],
   "source": [
    "## Take a look at the DataFrames\n",
    "g.vertices.show()"
   ]
  },
  {
   "cell_type": "code",
   "execution_count": 11,
   "metadata": {},
   "outputs": [
    {
     "name": "stdout",
     "output_type": "stream",
     "text": [
      "+---+---+-------+\n",
      "|src|dst|   type|\n",
      "+---+---+-------+\n",
      "|  1|  2| friend|\n",
      "|  1| 98| friend|\n",
      "|  2|  1| friend|\n",
      "|  3|  1| friend|\n",
      "|  1|  3| friend|\n",
      "|  2|  3|follows|\n",
      "|  3|  4| friend|\n",
      "|  4|  3| friend|\n",
      "|  5|  3| friend|\n",
      "|  3|  5| friend|\n",
      "|  4|  5|follows|\n",
      "| 98| 99| friend|\n",
      "| 99| 98| friend|\n",
      "+---+---+-------+\n",
      "\n"
     ]
    }
   ],
   "source": [
    "g.edges.show()"
   ]
  },
  {
   "cell_type": "code",
   "execution_count": null,
   "metadata": {},
   "outputs": [
    {
     "name": "stderr",
     "output_type": "stream",
     "text": [
      "C:\\Spark\\spark-3.5.1-bin-hadoop3\\python\\pyspark\\sql\\dataframe.py:147: UserWarning: DataFrame constructor is internal. Do not directly use it.\n",
      "  warnings.warn(\"DataFrame constructor is internal. Do not directly use it.\")\n"
     ]
    },
    {
     "name": "stdout",
     "output_type": "stream",
     "text": [
      "+---+------+\n",
      "| id|degree|\n",
      "+---+------+\n",
      "|  1|     5|\n",
      "|  2|     3|\n",
      "| 98|     3|\n",
      "|  3|     7|\n",
      "|  4|     3|\n",
      "|  5|     3|\n",
      "| 99|     2|\n",
      "+---+------+\n",
      "\n"
     ]
    }
   ],
   "source": [
    "degrees=g.degrees\n",
    "degrees.show()"
   ]
  },
  {
   "cell_type": "code",
   "execution_count": null,
   "metadata": {},
   "outputs": [
    {
     "name": "stderr",
     "output_type": "stream",
     "text": [
      "C:\\Spark\\spark-3.5.1-bin-hadoop3\\python\\pyspark\\sql\\dataframe.py:147: UserWarning: DataFrame constructor is internal. Do not directly use it.\n",
      "  warnings.warn(\"DataFrame constructor is internal. Do not directly use it.\")\n"
     ]
    },
    {
     "name": "stdout",
     "output_type": "stream",
     "text": [
      "+---+--------+\n",
      "| id|inDegree|\n",
      "+---+--------+\n",
      "|  2|       1|\n",
      "| 98|       2|\n",
      "|  1|       2|\n",
      "|  3|       4|\n",
      "|  4|       1|\n",
      "|  5|       2|\n",
      "| 99|       1|\n",
      "+---+--------+\n",
      "\n"
     ]
    }
   ],
   "source": [
    "in_degrees=g.inDegrees\n",
    "in_degrees.show()"
   ]
  },
  {
   "cell_type": "code",
   "execution_count": null,
   "metadata": {},
   "outputs": [
    {
     "name": "stderr",
     "output_type": "stream",
     "text": [
      "C:\\Spark\\spark-3.5.1-bin-hadoop3\\python\\pyspark\\sql\\dataframe.py:147: UserWarning: DataFrame constructor is internal. Do not directly use it.\n",
      "  warnings.warn(\"DataFrame constructor is internal. Do not directly use it.\")\n"
     ]
    },
    {
     "name": "stdout",
     "output_type": "stream",
     "text": [
      "+---+---------+\n",
      "| id|outDegree|\n",
      "+---+---------+\n",
      "|  1|        3|\n",
      "|  2|        2|\n",
      "|  3|        3|\n",
      "|  4|        2|\n",
      "|  5|        1|\n",
      "| 98|        1|\n",
      "| 99|        1|\n",
      "+---+---------+\n",
      "\n"
     ]
    }
   ],
   "source": [
    "out_degrees=g.outDegrees\n",
    "out_degrees.show()"
   ]
  },
  {
   "cell_type": "code",
   "execution_count": 15,
   "metadata": {},
   "outputs": [
    {
     "name": "stderr",
     "output_type": "stream",
     "text": [
      "C:\\Spark\\spark-3.5.1-bin-hadoop3\\python\\pyspark\\sql\\dataframe.py:147: UserWarning: DataFrame constructor is internal. Do not directly use it.\n",
      "  warnings.warn(\"DataFrame constructor is internal. Do not directly use it.\")\n"
     ]
    },
    {
     "name": "stdout",
     "output_type": "stream",
     "text": [
      "+---------------+----------------+---------------+\n",
      "|            src|            edge|            dst|\n",
      "+---------------+----------------+---------------+\n",
      "| {3, Mills, 80}|  {3, 1, friend}|{1, Carter, 50}|\n",
      "|   {2, May, 26}|  {2, 1, friend}|{1, Carter, 50}|\n",
      "|{1, Carter, 50}|  {1, 2, friend}|   {2, May, 26}|\n",
      "| {5, Banks, 93}|  {5, 3, friend}| {3, Mills, 80}|\n",
      "|  {4, Hood, 65}|  {4, 3, friend}| {3, Mills, 80}|\n",
      "|   {2, May, 26}| {2, 3, follows}| {3, Mills, 80}|\n",
      "|{1, Carter, 50}|  {1, 3, friend}| {3, Mills, 80}|\n",
      "| {3, Mills, 80}|  {3, 4, friend}|  {4, Hood, 65}|\n",
      "|  {4, Hood, 65}| {4, 5, follows}| {5, Banks, 93}|\n",
      "| {3, Mills, 80}|  {3, 5, friend}| {5, Banks, 93}|\n",
      "| {99, Page, 16}|{99, 98, friend}| {98, Berg, 28}|\n",
      "|{1, Carter, 50}| {1, 98, friend}| {98, Berg, 28}|\n",
      "| {98, Berg, 28}|{98, 99, friend}| {99, Page, 16}|\n",
      "+---------------+----------------+---------------+\n",
      "\n"
     ]
    }
   ],
   "source": [
    "triplets=g.triplets\n",
    "triplets.show()"
   ]
  },
  {
   "cell_type": "markdown",
   "metadata": {},
   "source": [
    "Visualize graph"
   ]
  },
  {
   "cell_type": "code",
   "execution_count": 16,
   "metadata": {},
   "outputs": [],
   "source": [
    "import networkx as nx\n",
    "import matplotlib.pyplot as plt"
   ]
  },
  {
   "cell_type": "code",
   "execution_count": 17,
   "metadata": {},
   "outputs": [],
   "source": [
    "def PlotGraph(edge_list):\n",
    "    Gplot=nx.Graph()\n",
    "    for row in edge_list.select('src','dst').take(1000):\n",
    "        Gplot.add_edge(row['src'], row['dst'])\n",
    "    nx.draw(Gplot, with_labels=True, font_weight='bold')"
   ]
  },
  {
   "cell_type": "code",
   "execution_count": 18,
   "metadata": {},
   "outputs": [
    {
     "data": {
      "image/png": "[encoded data removed]",
      "text/plain": [
       "<Figure size 640x480 with 1 Axes>"
      ]
     },
     "metadata": {},
     "output_type": "display_data"
    }
   ],
   "source": [
    "PlotGraph(g.edges)"
   ]
  },
  {
   "cell_type": "code",
   "execution_count": 19,
   "metadata": {},
   "outputs": [],
   "source": [
    "# Add new vertices and edges\n",
    "new_vertices = spark.createDataFrame([('6', 'Thomas', 30),\n",
    "                                 ('7', 'Matthew', 25)],\n",
    "                                 ['id', 'name', 'age'])\n",
    "new_edges = spark.createDataFrame([('6', '7', 'friend')],\n",
    "                              ['src', 'dst', 'type'])"
   ]
  },
  {
   "cell_type": "code",
   "execution_count": 20,
   "metadata": {},
   "outputs": [],
   "source": [
    "combined_vertices = g.vertices.union(new_vertices).distinct()\n",
    "combined_edges = g.edges.union(new_edges)"
   ]
  },
  {
   "cell_type": "code",
   "execution_count": 22,
   "metadata": {},
   "outputs": [],
   "source": [
    "g = GraphFrame(combined_vertices, combined_edges)"
   ]
  },
  {
   "cell_type": "code",
   "execution_count": 23,
   "metadata": {},
   "outputs": [
    {
     "data": {
      "image/png": "[encoded data removed]",
      "text/plain": [
       "<Figure size 640x480 with 1 Axes>"
      ]
     },
     "metadata": {},
     "output_type": "display_data"
    }
   ],
   "source": [
    "PlotGraph(g.edges)"
   ]
  },
  {
   "cell_type": "markdown",
   "metadata": {},
   "source": [
    "Filtering"
   ]
  },
  {
   "cell_type": "code",
   "execution_count": 24,
   "metadata": {},
   "outputs": [
    {
     "name": "stdout",
     "output_type": "stream",
     "text": [
      "+---+------+---+\n",
      "| id|  name|age|\n",
      "+---+------+---+\n",
      "|  1|Carter| 50|\n",
      "|  3| Mills| 80|\n",
      "|  4|  Hood| 65|\n",
      "|  5| Banks| 93|\n",
      "+---+------+---+\n",
      "\n"
     ]
    }
   ],
   "source": [
    "g.vertices.filter('age>30').show()"
   ]
  },
  {
   "cell_type": "code",
   "execution_count": 25,
   "metadata": {},
   "outputs": [
    {
     "name": "stderr",
     "output_type": "stream",
     "text": [
      "C:\\Spark\\spark-3.5.1-bin-hadoop3\\python\\pyspark\\sql\\dataframe.py:147: UserWarning: DataFrame constructor is internal. Do not directly use it.\n",
      "  warnings.warn(\"DataFrame constructor is internal. Do not directly use it.\")\n"
     ]
    },
    {
     "name": "stdout",
     "output_type": "stream",
     "text": [
      "+---+--------+\n",
      "| id|inDegree|\n",
      "+---+--------+\n",
      "|  3|       4|\n",
      "| 98|       2|\n",
      "|  1|       2|\n",
      "|  5|       2|\n",
      "+---+--------+\n",
      "\n"
     ]
    }
   ],
   "source": [
    "g.inDegrees.filter('inDegree >= 2').sort('inDegree', ascending=False).show()"
   ]
  },
  {
   "cell_type": "markdown",
   "metadata": {},
   "source": [
    "Subgraph"
   ]
  },
  {
   "cell_type": "code",
   "execution_count": 31,
   "metadata": {},
   "outputs": [
    {
     "name": "stderr",
     "output_type": "stream",
     "text": [
      "C:\\Spark\\spark-3.5.1-bin-hadoop3\\python\\pyspark\\sql\\dataframe.py:147: UserWarning: DataFrame constructor is internal. Do not directly use it.\n",
      "  warnings.warn(\"DataFrame constructor is internal. Do not directly use it.\")\n",
      "C:\\Spark\\spark-3.5.1-bin-hadoop3\\python\\pyspark\\sql\\dataframe.py:168: UserWarning: DataFrame.sql_ctx is an internal property, and will be removed in future releases. Use DataFrame.sparkSession instead.\n",
      "  warnings.warn(\n"
     ]
    },
    {
     "name": "stdout",
     "output_type": "stream",
     "text": [
      "+---+---+-------+\n",
      "|src|dst|   type|\n",
      "+---+---+-------+\n",
      "|  2|  3|follows|\n",
      "|  4|  5|follows|\n",
      "+---+---+-------+\n",
      "\n"
     ]
    }
   ],
   "source": [
    "condition = \"type='follows'\"\n",
    "subgraph=g.filterEdges(condition)\n",
    "subgraph.edges.show()"
   ]
  },
  {
   "cell_type": "markdown",
   "metadata": {},
   "source": [
    "Motif finding"
   ]
  },
  {
   "cell_type": "code",
   "execution_count": 32,
   "metadata": {},
   "outputs": [
    {
     "name": "stderr",
     "output_type": "stream",
     "text": [
      "C:\\Spark\\spark-3.5.1-bin-hadoop3\\python\\pyspark\\sql\\dataframe.py:147: UserWarning: DataFrame constructor is internal. Do not directly use it.\n",
      "  warnings.warn(\"DataFrame constructor is internal. Do not directly use it.\")\n"
     ]
    }
   ],
   "source": [
    "mutualFriends = g.find(\"(a)-[]->(b); (b)-[]->(c); (c)-[]->(b); (b)-[]->(a)\")\\\n",
    "                                                                .dropDuplicates()"
   ]
  },
  {
   "cell_type": "code",
   "execution_count": 33,
   "metadata": {},
   "outputs": [
    {
     "name": "stdout",
     "output_type": "stream",
     "text": [
      "+--------------+---------------+--------------+\n",
      "|             a|              b|             c|\n",
      "+--------------+---------------+--------------+\n",
      "|{3, Mills, 80}|  {4, Hood, 65}|{3, Mills, 80}|\n",
      "|{3, Mills, 80}| {5, Banks, 93}|{3, Mills, 80}|\n",
      "|{3, Mills, 80}|{1, Carter, 50}|{3, Mills, 80}|\n",
      "|{3, Mills, 80}|{1, Carter, 50}|  {2, May, 26}|\n",
      "+--------------+---------------+--------------+\n",
      "\n"
     ]
    }
   ],
   "source": [
    "mutualFriends.filter('a.id==3').show()"
   ]
  },
  {
   "cell_type": "code",
   "execution_count": 34,
   "metadata": {},
   "outputs": [
    {
     "name": "stdout",
     "output_type": "stream",
     "text": [
      "+------------+---------------+--------------+\n",
      "|           a|              b|             c|\n",
      "+------------+---------------+--------------+\n",
      "|{2, May, 26}|{1, Carter, 50}|{3, Mills, 80}|\n",
      "+------------+---------------+--------------+\n",
      "\n"
     ]
    }
   ],
   "source": [
    "mutualFriends.filter('a.id==2 and c.id==3').show()"
   ]
  },
  {
   "cell_type": "markdown",
   "metadata": {},
   "source": [
    "Triangle count"
   ]
  },
  {
   "cell_type": "code",
   "execution_count": 35,
   "metadata": {},
   "outputs": [
    {
     "name": "stderr",
     "output_type": "stream",
     "text": [
      "C:\\Spark\\spark-3.5.1-bin-hadoop3\\python\\pyspark\\sql\\dataframe.py:147: UserWarning: DataFrame constructor is internal. Do not directly use it.\n",
      "  warnings.warn(\"DataFrame constructor is internal. Do not directly use it.\")\n"
     ]
    },
    {
     "name": "stdout",
     "output_type": "stream",
     "text": [
      "+-----+---+-------+---+\n",
      "|count| id|   name|age|\n",
      "+-----+---+-------+---+\n",
      "|    0|  7|Matthew| 25|\n",
      "|    2|  3|  Mills| 80|\n",
      "|    0| 98|   Berg| 28|\n",
      "|    0| 99|   Page| 16|\n",
      "|    1|  5|  Banks| 93|\n",
      "|    0|  6| Thomas| 30|\n",
      "|    1|  1| Carter| 50|\n",
      "|    1|  4|   Hood| 65|\n",
      "|    1|  2|    May| 26|\n",
      "+-----+---+-------+---+\n",
      "\n"
     ]
    }
   ],
   "source": [
    "g.triangleCount().show()"
   ]
  },
  {
   "cell_type": "markdown",
   "metadata": {},
   "source": [
    "Graph Traversals"
   ]
  },
  {
   "cell_type": "code",
   "execution_count": 36,
   "metadata": {},
   "outputs": [
    {
     "name": "stderr",
     "output_type": "stream",
     "text": [
      "C:\\Spark\\spark-3.5.1-bin-hadoop3\\python\\pyspark\\sql\\dataframe.py:147: UserWarning: DataFrame constructor is internal. Do not directly use it.\n",
      "  warnings.warn(\"DataFrame constructor is internal. Do not directly use it.\")\n"
     ]
    },
    {
     "name": "stdout",
     "output_type": "stream",
     "text": [
      "+---------------+--------------+--------------+\n",
      "|           from|            e0|            to|\n",
      "+---------------+--------------+--------------+\n",
      "|{1, Carter, 50}|{1, 3, friend}|{3, Mills, 80}|\n",
      "+---------------+--------------+--------------+\n",
      "\n"
     ]
    }
   ],
   "source": [
    "bfs_result = g.bfs('id=1', 'id=3', maxPathLength=2)\n",
    "bfs_result.show()"
   ]
  },
  {
   "cell_type": "markdown",
   "metadata": {},
   "source": [
    "Component"
   ]
  },
  {
   "cell_type": "code",
   "execution_count": null,
   "metadata": {},
   "outputs": [],
   "source": [
    "sc.setCheckpointDir('Chap13/graphframes_cps')"
   ]
  },
  {
   "cell_type": "code",
   "execution_count": 38,
   "metadata": {},
   "outputs": [
    {
     "name": "stderr",
     "output_type": "stream",
     "text": [
      "C:\\Spark\\spark-3.5.1-bin-hadoop3\\python\\pyspark\\sql\\dataframe.py:147: UserWarning: DataFrame constructor is internal. Do not directly use it.\n",
      "  warnings.warn(\"DataFrame constructor is internal. Do not directly use it.\")\n"
     ]
    },
    {
     "name": "stdout",
     "output_type": "stream",
     "text": [
      "+---+-------+---+------------+\n",
      "| id|   name|age|   component|\n",
      "+---+-------+---+------------+\n",
      "|  1| Carter| 50|154618822656|\n",
      "|  2|    May| 26|154618822656|\n",
      "|  3|  Mills| 80|154618822656|\n",
      "|  4|   Hood| 65|154618822656|\n",
      "|  5|  Banks| 93|154618822656|\n",
      "| 98|   Berg| 28|154618822656|\n",
      "| 99|   Page| 16|154618822656|\n",
      "|  6| Thomas| 30| 25769803776|\n",
      "|  7|Matthew| 25| 25769803776|\n",
      "+---+-------+---+------------+\n",
      "\n"
     ]
    }
   ],
   "source": [
    "g.connectedComponents().show()"
   ]
  },
  {
   "cell_type": "code",
   "execution_count": 39,
   "metadata": {},
   "outputs": [
    {
     "name": "stderr",
     "output_type": "stream",
     "text": [
      "C:\\Spark\\spark-3.5.1-bin-hadoop3\\python\\pyspark\\sql\\dataframe.py:147: UserWarning: DataFrame constructor is internal. Do not directly use it.\n",
      "  warnings.warn(\"DataFrame constructor is internal. Do not directly use it.\")\n"
     ]
    },
    {
     "name": "stdout",
     "output_type": "stream",
     "text": [
      "+------------+\n",
      "|   component|\n",
      "+------------+\n",
      "|154618822656|\n",
      "| 25769803776|\n",
      "+------------+\n",
      "\n"
     ]
    }
   ],
   "source": [
    "g.connectedComponents()[['component']].distinct().show()"
   ]
  },
  {
   "cell_type": "markdown",
   "metadata": {},
   "source": [
    "Page Rank"
   ]
  },
  {
   "cell_type": "code",
   "execution_count": 40,
   "metadata": {},
   "outputs": [
    {
     "name": "stderr",
     "output_type": "stream",
     "text": [
      "C:\\Spark\\spark-3.5.1-bin-hadoop3\\python\\pyspark\\sql\\dataframe.py:147: UserWarning: DataFrame constructor is internal. Do not directly use it.\n",
      "  warnings.warn(\"DataFrame constructor is internal. Do not directly use it.\")\n",
      "C:\\Spark\\spark-3.5.1-bin-hadoop3\\python\\pyspark\\sql\\dataframe.py:168: UserWarning: DataFrame.sql_ctx is an internal property, and will be removed in future releases. Use DataFrame.sparkSession instead.\n",
      "  warnings.warn(\n"
     ]
    },
    {
     "name": "stdout",
     "output_type": "stream",
     "text": [
      "+---+-------+---+-------------------+\n",
      "| id|   name|age|           pagerank|\n",
      "+---+-------+---+-------------------+\n",
      "|  7|Matthew| 25| 0.3613292126295438|\n",
      "|  3|  Mills| 80|  1.640748392771466|\n",
      "| 98|   Berg| 28|  2.043046479731969|\n",
      "| 99|   Page| 16|  1.931902595680035|\n",
      "|  5|  Banks| 93| 0.9281925491203596|\n",
      "|  6| Thomas| 30|0.19531308790786153|\n",
      "|  1| Carter| 50| 0.8201566044944687|\n",
      "|  4|   Hood| 65| 0.6565050480552301|\n",
      "|  2|    May| 26|0.42280602960906566|\n",
      "+---+-------+---+-------------------+\n",
      "\n"
     ]
    }
   ],
   "source": [
    "pr = g.pageRank(resetProbability=0.15, tol=0.01)\n",
    "pr.vertices.show()"
   ]
  },
  {
   "cell_type": "code",
   "execution_count": 41,
   "metadata": {},
   "outputs": [
    {
     "name": "stdout",
     "output_type": "stream",
     "text": [
      "+---+---+-------+------------------+\n",
      "|src|dst|   type|            weight|\n",
      "+---+---+-------+------------------+\n",
      "|  3|  5| friend|0.3333333333333333|\n",
      "|  3|  1| friend|0.3333333333333333|\n",
      "|  3|  4| friend|0.3333333333333333|\n",
      "| 98| 99| friend|               1.0|\n",
      "| 99| 98| friend|               1.0|\n",
      "|  5|  3| friend|               1.0|\n",
      "|  6|  7| friend|               1.0|\n",
      "|  1|  3| friend|0.3333333333333333|\n",
      "|  1| 98| friend|0.3333333333333333|\n",
      "|  1|  2| friend|0.3333333333333333|\n",
      "|  4|  3| friend|               0.5|\n",
      "|  4|  5|follows|               0.5|\n",
      "|  2|  3|follows|               0.5|\n",
      "|  2|  1| friend|               0.5|\n",
      "+---+---+-------+------------------+\n",
      "\n"
     ]
    }
   ],
   "source": [
    "pr.edges.show()"
   ]
  }
 ],
 "metadata": {
  "colab": {
   "provenance": []
  },
  "kernelspec": {
   "display_name": "Python 3",
   "language": "python",
   "name": "python3"
  },
  "language_info": {
   "codemirror_mode": {
    "name": "ipython",
    "version": 3
   },
   "file_extension": ".py",
   "mimetype": "text/x-python",
   "name": "python",
   "nbconvert_exporter": "python",
   "pygments_lexer": "ipython3",
   "version": "3.10.11"
  }
 },
 "nbformat": 4,
 "nbformat_minor": 1
}
